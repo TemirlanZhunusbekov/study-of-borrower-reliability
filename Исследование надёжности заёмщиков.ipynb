{
 "cells": [
  {
   "cell_type": "markdown",
   "metadata": {},
   "source": [
    "# Исследование надёжности заёмщиков\n",
    "\n",
    "Заказчик — кредитный отдел банка. Нужно разобраться, влияет ли семейное положение и количество детей клиента на факт погашения кредита в срок. Входные данные от банка — статистика о платёжеспособности клиентов.\n",
    "\n",
    "Результаты исследования будут учтены при построении модели **кредитного скоринга** — специальной системы, которая оценивает способность потенциального заёмщика вернуть кредит банку."
   ]
  },
  {
   "cell_type": "markdown",
   "metadata": {},
   "source": [
    "# Описание данных\n",
    "- `children` — количество детей в семье\n",
    "- `days_employed` — общий трудовой стаж в днях\n",
    "- `dob_years` — возраст клиента в годах\n",
    "- `education` — уровень образования клиента\n",
    "- `education_id` — идентификатор уровня образования\n",
    "- `family_status` — семейное положение\n",
    "- `family_status_id` — идентификатор семейного положения\n",
    "- `gender` — пол клиента\n",
    "- `income_type` — тип занятости\n",
    "- `debt` — имел ли задолженность по возврату кредитов\n",
    "- `total_income` — ежемесячный доход\n",
    "- `purpose` — цель получения кредита"
   ]
  },
  {
   "cell_type": "markdown",
   "metadata": {},
   "source": [
    "## Шаг 1. Откройте файл с данными и изучите общую информацию"
   ]
  },
  {
   "cell_type": "code",
   "execution_count": 1,
   "metadata": {},
   "outputs": [
    {
     "name": "stdout",
     "output_type": "stream",
     "text": [
      "<class 'pandas.core.frame.DataFrame'>\n",
      "RangeIndex: 21525 entries, 0 to 21524\n",
      "Data columns (total 12 columns):\n",
      "children            21525 non-null int64\n",
      "days_employed       19351 non-null float64\n",
      "dob_years           21525 non-null int64\n",
      "education           21525 non-null object\n",
      "education_id        21525 non-null int64\n",
      "family_status       21525 non-null object\n",
      "family_status_id    21525 non-null int64\n",
      "gender              21525 non-null object\n",
      "income_type         21525 non-null object\n",
      "debt                21525 non-null int64\n",
      "total_income        19351 non-null float64\n",
      "purpose             21525 non-null object\n",
      "dtypes: float64(2), int64(5), object(5)\n",
      "memory usage: 2.0+ MB\n"
     ]
    },
    {
     "data": {
      "text/html": [
       "<div>\n",
       "<style scoped>\n",
       "    .dataframe tbody tr th:only-of-type {\n",
       "        vertical-align: middle;\n",
       "    }\n",
       "\n",
       "    .dataframe tbody tr th {\n",
       "        vertical-align: top;\n",
       "    }\n",
       "\n",
       "    .dataframe thead th {\n",
       "        text-align: right;\n",
       "    }\n",
       "</style>\n",
       "<table border=\"1\" class=\"dataframe\">\n",
       "  <thead>\n",
       "    <tr style=\"text-align: right;\">\n",
       "      <th></th>\n",
       "      <th>children</th>\n",
       "      <th>days_employed</th>\n",
       "      <th>dob_years</th>\n",
       "      <th>education</th>\n",
       "      <th>education_id</th>\n",
       "      <th>family_status</th>\n",
       "      <th>family_status_id</th>\n",
       "      <th>gender</th>\n",
       "      <th>income_type</th>\n",
       "      <th>debt</th>\n",
       "      <th>total_income</th>\n",
       "      <th>purpose</th>\n",
       "    </tr>\n",
       "  </thead>\n",
       "  <tbody>\n",
       "    <tr>\n",
       "      <td>0</td>\n",
       "      <td>1</td>\n",
       "      <td>-8437.673028</td>\n",
       "      <td>42</td>\n",
       "      <td>высшее</td>\n",
       "      <td>0</td>\n",
       "      <td>женат / замужем</td>\n",
       "      <td>0</td>\n",
       "      <td>F</td>\n",
       "      <td>сотрудник</td>\n",
       "      <td>0</td>\n",
       "      <td>253875.639453</td>\n",
       "      <td>покупка жилья</td>\n",
       "    </tr>\n",
       "    <tr>\n",
       "      <td>1</td>\n",
       "      <td>1</td>\n",
       "      <td>-4024.803754</td>\n",
       "      <td>36</td>\n",
       "      <td>среднее</td>\n",
       "      <td>1</td>\n",
       "      <td>женат / замужем</td>\n",
       "      <td>0</td>\n",
       "      <td>F</td>\n",
       "      <td>сотрудник</td>\n",
       "      <td>0</td>\n",
       "      <td>112080.014102</td>\n",
       "      <td>приобретение автомобиля</td>\n",
       "    </tr>\n",
       "    <tr>\n",
       "      <td>2</td>\n",
       "      <td>0</td>\n",
       "      <td>-5623.422610</td>\n",
       "      <td>33</td>\n",
       "      <td>Среднее</td>\n",
       "      <td>1</td>\n",
       "      <td>женат / замужем</td>\n",
       "      <td>0</td>\n",
       "      <td>M</td>\n",
       "      <td>сотрудник</td>\n",
       "      <td>0</td>\n",
       "      <td>145885.952297</td>\n",
       "      <td>покупка жилья</td>\n",
       "    </tr>\n",
       "    <tr>\n",
       "      <td>3</td>\n",
       "      <td>3</td>\n",
       "      <td>-4124.747207</td>\n",
       "      <td>32</td>\n",
       "      <td>среднее</td>\n",
       "      <td>1</td>\n",
       "      <td>женат / замужем</td>\n",
       "      <td>0</td>\n",
       "      <td>M</td>\n",
       "      <td>сотрудник</td>\n",
       "      <td>0</td>\n",
       "      <td>267628.550329</td>\n",
       "      <td>дополнительное образование</td>\n",
       "    </tr>\n",
       "    <tr>\n",
       "      <td>4</td>\n",
       "      <td>0</td>\n",
       "      <td>340266.072047</td>\n",
       "      <td>53</td>\n",
       "      <td>среднее</td>\n",
       "      <td>1</td>\n",
       "      <td>гражданский брак</td>\n",
       "      <td>1</td>\n",
       "      <td>F</td>\n",
       "      <td>пенсионер</td>\n",
       "      <td>0</td>\n",
       "      <td>158616.077870</td>\n",
       "      <td>сыграть свадьбу</td>\n",
       "    </tr>\n",
       "    <tr>\n",
       "      <td>...</td>\n",
       "      <td>...</td>\n",
       "      <td>...</td>\n",
       "      <td>...</td>\n",
       "      <td>...</td>\n",
       "      <td>...</td>\n",
       "      <td>...</td>\n",
       "      <td>...</td>\n",
       "      <td>...</td>\n",
       "      <td>...</td>\n",
       "      <td>...</td>\n",
       "      <td>...</td>\n",
       "      <td>...</td>\n",
       "    </tr>\n",
       "    <tr>\n",
       "      <td>21520</td>\n",
       "      <td>1</td>\n",
       "      <td>-4529.316663</td>\n",
       "      <td>43</td>\n",
       "      <td>среднее</td>\n",
       "      <td>1</td>\n",
       "      <td>гражданский брак</td>\n",
       "      <td>1</td>\n",
       "      <td>F</td>\n",
       "      <td>компаньон</td>\n",
       "      <td>0</td>\n",
       "      <td>224791.862382</td>\n",
       "      <td>операции с жильем</td>\n",
       "    </tr>\n",
       "    <tr>\n",
       "      <td>21521</td>\n",
       "      <td>0</td>\n",
       "      <td>343937.404131</td>\n",
       "      <td>67</td>\n",
       "      <td>среднее</td>\n",
       "      <td>1</td>\n",
       "      <td>женат / замужем</td>\n",
       "      <td>0</td>\n",
       "      <td>F</td>\n",
       "      <td>пенсионер</td>\n",
       "      <td>0</td>\n",
       "      <td>155999.806512</td>\n",
       "      <td>сделка с автомобилем</td>\n",
       "    </tr>\n",
       "    <tr>\n",
       "      <td>21522</td>\n",
       "      <td>1</td>\n",
       "      <td>-2113.346888</td>\n",
       "      <td>38</td>\n",
       "      <td>среднее</td>\n",
       "      <td>1</td>\n",
       "      <td>гражданский брак</td>\n",
       "      <td>1</td>\n",
       "      <td>M</td>\n",
       "      <td>сотрудник</td>\n",
       "      <td>1</td>\n",
       "      <td>89672.561153</td>\n",
       "      <td>недвижимость</td>\n",
       "    </tr>\n",
       "    <tr>\n",
       "      <td>21523</td>\n",
       "      <td>3</td>\n",
       "      <td>-3112.481705</td>\n",
       "      <td>38</td>\n",
       "      <td>среднее</td>\n",
       "      <td>1</td>\n",
       "      <td>женат / замужем</td>\n",
       "      <td>0</td>\n",
       "      <td>M</td>\n",
       "      <td>сотрудник</td>\n",
       "      <td>1</td>\n",
       "      <td>244093.050500</td>\n",
       "      <td>на покупку своего автомобиля</td>\n",
       "    </tr>\n",
       "    <tr>\n",
       "      <td>21524</td>\n",
       "      <td>2</td>\n",
       "      <td>-1984.507589</td>\n",
       "      <td>40</td>\n",
       "      <td>среднее</td>\n",
       "      <td>1</td>\n",
       "      <td>женат / замужем</td>\n",
       "      <td>0</td>\n",
       "      <td>F</td>\n",
       "      <td>сотрудник</td>\n",
       "      <td>0</td>\n",
       "      <td>82047.418899</td>\n",
       "      <td>на покупку автомобиля</td>\n",
       "    </tr>\n",
       "  </tbody>\n",
       "</table>\n",
       "<p>21525 rows × 12 columns</p>\n",
       "</div>"
      ],
      "text/plain": [
       "       children  days_employed  dob_years education  education_id  \\\n",
       "0             1   -8437.673028         42    высшее             0   \n",
       "1             1   -4024.803754         36   среднее             1   \n",
       "2             0   -5623.422610         33   Среднее             1   \n",
       "3             3   -4124.747207         32   среднее             1   \n",
       "4             0  340266.072047         53   среднее             1   \n",
       "...         ...            ...        ...       ...           ...   \n",
       "21520         1   -4529.316663         43   среднее             1   \n",
       "21521         0  343937.404131         67   среднее             1   \n",
       "21522         1   -2113.346888         38   среднее             1   \n",
       "21523         3   -3112.481705         38   среднее             1   \n",
       "21524         2   -1984.507589         40   среднее             1   \n",
       "\n",
       "          family_status  family_status_id gender income_type  debt  \\\n",
       "0       женат / замужем                 0      F   сотрудник     0   \n",
       "1       женат / замужем                 0      F   сотрудник     0   \n",
       "2       женат / замужем                 0      M   сотрудник     0   \n",
       "3       женат / замужем                 0      M   сотрудник     0   \n",
       "4      гражданский брак                 1      F   пенсионер     0   \n",
       "...                 ...               ...    ...         ...   ...   \n",
       "21520  гражданский брак                 1      F   компаньон     0   \n",
       "21521   женат / замужем                 0      F   пенсионер     0   \n",
       "21522  гражданский брак                 1      M   сотрудник     1   \n",
       "21523   женат / замужем                 0      M   сотрудник     1   \n",
       "21524   женат / замужем                 0      F   сотрудник     0   \n",
       "\n",
       "        total_income                       purpose  \n",
       "0      253875.639453                 покупка жилья  \n",
       "1      112080.014102       приобретение автомобиля  \n",
       "2      145885.952297                 покупка жилья  \n",
       "3      267628.550329    дополнительное образование  \n",
       "4      158616.077870               сыграть свадьбу  \n",
       "...              ...                           ...  \n",
       "21520  224791.862382             операции с жильем  \n",
       "21521  155999.806512          сделка с автомобилем  \n",
       "21522   89672.561153                  недвижимость  \n",
       "21523  244093.050500  на покупку своего автомобиля  \n",
       "21524   82047.418899         на покупку автомобиля  \n",
       "\n",
       "[21525 rows x 12 columns]"
      ]
     },
     "execution_count": 1,
     "metadata": {},
     "output_type": "execute_result"
    }
   ],
   "source": [
    "# Открываю файл и просматриваю общую информацию\n",
    "import pandas as pd\n",
    "\n",
    "data = pd.read_csv('/datasets/data.csv')\n",
    "data.info()\n",
    "data"
   ]
  },
  {
   "cell_type": "code",
   "execution_count": 2,
   "metadata": {},
   "outputs": [
    {
     "data": {
      "text/html": [
       "<div>\n",
       "<style scoped>\n",
       "    .dataframe tbody tr th:only-of-type {\n",
       "        vertical-align: middle;\n",
       "    }\n",
       "\n",
       "    .dataframe tbody tr th {\n",
       "        vertical-align: top;\n",
       "    }\n",
       "\n",
       "    .dataframe thead th {\n",
       "        text-align: right;\n",
       "    }\n",
       "</style>\n",
       "<table border=\"1\" class=\"dataframe\">\n",
       "  <thead>\n",
       "    <tr style=\"text-align: right;\">\n",
       "      <th></th>\n",
       "      <th>children</th>\n",
       "      <th>days_employed</th>\n",
       "      <th>dob_years</th>\n",
       "      <th>education_id</th>\n",
       "      <th>family_status_id</th>\n",
       "      <th>debt</th>\n",
       "      <th>total_income</th>\n",
       "    </tr>\n",
       "  </thead>\n",
       "  <tbody>\n",
       "    <tr>\n",
       "      <td>count</td>\n",
       "      <td>21525.000000</td>\n",
       "      <td>19351.000000</td>\n",
       "      <td>21525.000000</td>\n",
       "      <td>21525.000000</td>\n",
       "      <td>21525.000000</td>\n",
       "      <td>21525.000000</td>\n",
       "      <td>1.935100e+04</td>\n",
       "    </tr>\n",
       "    <tr>\n",
       "      <td>mean</td>\n",
       "      <td>0.538908</td>\n",
       "      <td>63046.497661</td>\n",
       "      <td>43.293380</td>\n",
       "      <td>0.817236</td>\n",
       "      <td>0.972544</td>\n",
       "      <td>0.080883</td>\n",
       "      <td>1.674223e+05</td>\n",
       "    </tr>\n",
       "    <tr>\n",
       "      <td>std</td>\n",
       "      <td>1.381587</td>\n",
       "      <td>140827.311974</td>\n",
       "      <td>12.574584</td>\n",
       "      <td>0.548138</td>\n",
       "      <td>1.420324</td>\n",
       "      <td>0.272661</td>\n",
       "      <td>1.029716e+05</td>\n",
       "    </tr>\n",
       "    <tr>\n",
       "      <td>min</td>\n",
       "      <td>-1.000000</td>\n",
       "      <td>-18388.949901</td>\n",
       "      <td>0.000000</td>\n",
       "      <td>0.000000</td>\n",
       "      <td>0.000000</td>\n",
       "      <td>0.000000</td>\n",
       "      <td>2.066726e+04</td>\n",
       "    </tr>\n",
       "    <tr>\n",
       "      <td>25%</td>\n",
       "      <td>0.000000</td>\n",
       "      <td>-2747.423625</td>\n",
       "      <td>33.000000</td>\n",
       "      <td>1.000000</td>\n",
       "      <td>0.000000</td>\n",
       "      <td>0.000000</td>\n",
       "      <td>1.030532e+05</td>\n",
       "    </tr>\n",
       "    <tr>\n",
       "      <td>50%</td>\n",
       "      <td>0.000000</td>\n",
       "      <td>-1203.369529</td>\n",
       "      <td>42.000000</td>\n",
       "      <td>1.000000</td>\n",
       "      <td>0.000000</td>\n",
       "      <td>0.000000</td>\n",
       "      <td>1.450179e+05</td>\n",
       "    </tr>\n",
       "    <tr>\n",
       "      <td>75%</td>\n",
       "      <td>1.000000</td>\n",
       "      <td>-291.095954</td>\n",
       "      <td>53.000000</td>\n",
       "      <td>1.000000</td>\n",
       "      <td>1.000000</td>\n",
       "      <td>0.000000</td>\n",
       "      <td>2.034351e+05</td>\n",
       "    </tr>\n",
       "    <tr>\n",
       "      <td>max</td>\n",
       "      <td>20.000000</td>\n",
       "      <td>401755.400475</td>\n",
       "      <td>75.000000</td>\n",
       "      <td>4.000000</td>\n",
       "      <td>4.000000</td>\n",
       "      <td>1.000000</td>\n",
       "      <td>2.265604e+06</td>\n",
       "    </tr>\n",
       "  </tbody>\n",
       "</table>\n",
       "</div>"
      ],
      "text/plain": [
       "           children  days_employed     dob_years  education_id  \\\n",
       "count  21525.000000   19351.000000  21525.000000  21525.000000   \n",
       "mean       0.538908   63046.497661     43.293380      0.817236   \n",
       "std        1.381587  140827.311974     12.574584      0.548138   \n",
       "min       -1.000000  -18388.949901      0.000000      0.000000   \n",
       "25%        0.000000   -2747.423625     33.000000      1.000000   \n",
       "50%        0.000000   -1203.369529     42.000000      1.000000   \n",
       "75%        1.000000    -291.095954     53.000000      1.000000   \n",
       "max       20.000000  401755.400475     75.000000      4.000000   \n",
       "\n",
       "       family_status_id          debt  total_income  \n",
       "count      21525.000000  21525.000000  1.935100e+04  \n",
       "mean           0.972544      0.080883  1.674223e+05  \n",
       "std            1.420324      0.272661  1.029716e+05  \n",
       "min            0.000000      0.000000  2.066726e+04  \n",
       "25%            0.000000      0.000000  1.030532e+05  \n",
       "50%            0.000000      0.000000  1.450179e+05  \n",
       "75%            1.000000      0.000000  2.034351e+05  \n",
       "max            4.000000      1.000000  2.265604e+06  "
      ]
     },
     "execution_count": 2,
     "metadata": {},
     "output_type": "execute_result"
    }
   ],
   "source": [
    "data.describe()"
   ]
  },
  {
   "cell_type": "code",
   "execution_count": 3,
   "metadata": {},
   "outputs": [
    {
     "name": "stdout",
     "output_type": "stream",
     "text": [
      "Количество строк 'days_employed' с положительными значениями: 3445\n",
      "Количество строк 'days_employed' с отрицательными значениями: 15906\n",
      "Количество строк с нулевым возрастом: 101\n",
      "Количество строк с -1 ребенком: 47\n",
      "Количество строк с 20 детьми: 76\n"
     ]
    }
   ],
   "source": [
    "print(\"Количество строк 'days_employed' с положительными значениями:\", data[data['days_employed'] > 0].shape[0])\n",
    "print(\"Количество строк 'days_employed' с отрицательными значениями:\", data[data['days_employed'] < 0].shape[0])\n",
    "print(\"Количество строк с нулевым возрастом:\", data[data['dob_years'] == 0].count()[0])\n",
    "print(\"Количество строк с -1 ребенком:\", data[data['children'] == -1].count()[0])\n",
    "print(\"Количество строк с 20 детьми:\", data[data['children'] == 20].count()[0])"
   ]
  },
  {
   "cell_type": "markdown",
   "metadata": {},
   "source": [
    "**Вывод** Видим аномальные значения в столбце `days_employed`, а именно отрицательное значение. Также видим разные регистры в `education`. Видим аномальное значение в столбце `children`, где количество детей равно -1. Что касается 20 детей, то такое вполне возможно. Также странно, что минимальный возраст в колонке `dob_years` равен нулю.\n",
    "\n",
    "Слишком много записей в рабочих для с отрицательными значениями. Высокая вероятность, что это просто ошибка и следует привести их к модулю. \n",
    "Данные людей с нулевым возрастом является пропуском. \n",
    "-1 привести к модулю\n",
    "20 детей у 76 семей явная ошибка. Видимо добавили лишний 0, реальное значение равно 2."
   ]
  },
  {
   "cell_type": "markdown",
   "metadata": {},
   "source": [
    "## Шаг 2. Предобработка данных"
   ]
  },
  {
   "cell_type": "markdown",
   "metadata": {},
   "source": [
    "### Обработка пропусков"
   ]
  },
  {
   "cell_type": "code",
   "execution_count": 4,
   "metadata": {},
   "outputs": [
    {
     "data": {
      "text/plain": [
       "children               0\n",
       "days_employed       2174\n",
       "dob_years              0\n",
       "education              0\n",
       "education_id           0\n",
       "family_status          0\n",
       "family_status_id       0\n",
       "gender                 0\n",
       "income_type            0\n",
       "debt                   0\n",
       "total_income        2174\n",
       "purpose                0\n",
       "dtype: int64"
      ]
     },
     "execution_count": 4,
     "metadata": {},
     "output_type": "execute_result"
    }
   ],
   "source": [
    "# Считаю количество пропусков в каждом столбце\n",
    "data.isnull().sum()"
   ]
  },
  {
   "cell_type": "code",
   "execution_count": 5,
   "metadata": {},
   "outputs": [
    {
     "data": {
      "text/plain": [
       "сотрудник          1105\n",
       "компаньон           508\n",
       "пенсионер           413\n",
       "госслужащий         147\n",
       "предприниматель       1\n",
       "Name: income_type, dtype: int64"
      ]
     },
     "execution_count": 5,
     "metadata": {},
     "output_type": "execute_result"
    }
   ],
   "source": [
    "data_nulls = data[(data['total_income'].isnull() == True) & (data['days_employed'].isnull() == True)]['income_type'].value_counts()\n",
    "data_nulls"
   ]
  },
  {
   "cell_type": "markdown",
   "metadata": {},
   "source": [
    "**Вывод** Посчитали пропуски в каждом столбце. Пропуски рандомны (видим, что клиенты работают в разных сферах, а некоторые из них и вовсе уже пенсионеры), поэтому следует заполнить их медианными значениями."
   ]
  },
  {
   "cell_type": "markdown",
   "metadata": {},
   "source": [
    "### Замена типа данных"
   ]
  },
  {
   "cell_type": "code",
   "execution_count": 6,
   "metadata": {},
   "outputs": [
    {
     "name": "stdout",
     "output_type": "stream",
     "text": [
      "<class 'pandas.core.frame.DataFrame'>\n",
      "RangeIndex: 21525 entries, 0 to 21524\n",
      "Data columns (total 12 columns):\n",
      "children            21525 non-null int64\n",
      "days_employed       21525 non-null int64\n",
      "dob_years           21525 non-null float64\n",
      "education           21525 non-null object\n",
      "education_id        21525 non-null int64\n",
      "family_status       21525 non-null object\n",
      "family_status_id    21525 non-null int64\n",
      "gender              21525 non-null object\n",
      "income_type         21525 non-null object\n",
      "debt                21525 non-null int64\n",
      "total_income        21525 non-null int64\n",
      "purpose             21525 non-null object\n",
      "dtypes: float64(1), int64(6), object(5)\n",
      "memory usage: 2.0+ MB\n"
     ]
    }
   ],
   "source": [
    "# Переводим все в числовой формат\n",
    "data['days_employed'] = pd.to_numeric(data['days_employed'], errors='coerce')\n",
    "data['total_income'] = pd.to_numeric(data['total_income'], errors='coerce')\n",
    "\n",
    "# Отрицательные числа \"превращаем\" в положительные\n",
    "data['days_employed'] = abs(data['days_employed'])\n",
    "data['total_income'] = abs(data['total_income'])\n",
    "data['children'] = abs(data['children'])\n",
    "\n",
    "# Исправляем прочие аномалии\n",
    "data['children'] = data['children'].replace(-1, 0)\n",
    "data['children'] = data['children'].replace(20, 0)\n",
    "\n",
    "# Заменяем нулевой возраст на медианное значение\n",
    "data_median_age = data[data['dob_years'] != 0]['dob_years'].mean()\n",
    "data['dob_years'] = data['dob_years'].replace(0, data_median_age)\n",
    "\n",
    "# Посчитаем медиану для обоих столбцов\n",
    "days_employed_median = data['days_employed'].median()\n",
    "total_income_median = data['total_income'].median()\n",
    "\n",
    "# Вставим медианные значения вместо пропущенных\n",
    "data['days_employed'] = data['days_employed'].fillna(days_employed_median)\n",
    "data['total_income'] = data['total_income'].fillna(total_income_median)\n",
    "\n",
    "# Переводим следующие столбцы из float в int\n",
    "data['days_employed'] = data['days_employed'].astype('int')\n",
    "data['total_income'] = data['total_income'].astype('int')\n",
    "\n",
    "# Проверяем пропущенные значения\n",
    "data.isnull().sum()\n",
    "data.info()"
   ]
  },
  {
   "cell_type": "code",
   "execution_count": 7,
   "metadata": {},
   "outputs": [
    {
     "name": "stdout",
     "output_type": "stream",
     "text": [
      "Количество строк 'days_employed' с положительными значениями: 21525\n",
      "Количество строк 'days_employed' с отрицательными значениями: 0\n",
      "Количество строк с нулевым возрастом: 0\n",
      "Количество строк с -1 ребенком: 0\n",
      "Количество строк с 20 детьми: 0\n"
     ]
    }
   ],
   "source": [
    "# Проверяем аномалии снова\n",
    "print(\"Количество строк 'days_employed' с положительными значениями:\", data[data['days_employed'] > 0].shape[0])\n",
    "print(\"Количество строк 'days_employed' с отрицательными значениями:\", data[data['days_employed'] < 0].shape[0])\n",
    "print(\"Количество строк с нулевым возрастом:\", data[data['dob_years'] == 0].count()[0])\n",
    "print(\"Количество строк с -1 ребенком:\", data[data['children'] == -1].count()[0])\n",
    "print(\"Количество строк с 20 детьми:\", data[data['children'] == 20].count()[0])"
   ]
  },
  {
   "cell_type": "markdown",
   "metadata": {},
   "source": [
    "**Вывод** Посчитали медианное значение и заменили ими пропущенные значения в days_employed и total_income. Также эти же столбцы перевели в int. Исправили все аномальные значения."
   ]
  },
  {
   "cell_type": "markdown",
   "metadata": {},
   "source": [
    "### Обработка дубликатов"
   ]
  },
  {
   "cell_type": "code",
   "execution_count": 8,
   "metadata": {},
   "outputs": [
    {
     "data": {
      "text/plain": [
       "71"
      ]
     },
     "execution_count": 8,
     "metadata": {},
     "output_type": "execute_result"
    }
   ],
   "source": [
    "# Переводим все в нижний регистр и считаем количество дубликатов\n",
    "data['education'] = data['education'].str.lower()\n",
    "data['family_status'] = data['family_status'].str.lower()\n",
    "data['income_type'] = data['income_type'].str.lower()\n",
    "data['purpose'] = data['purpose'].str.lower()\n",
    "\n",
    "data.duplicated().sum()"
   ]
  },
  {
   "cell_type": "code",
   "execution_count": 9,
   "metadata": {},
   "outputs": [
    {
     "data": {
      "text/plain": [
       "0"
      ]
     },
     "execution_count": 9,
     "metadata": {},
     "output_type": "execute_result"
    }
   ],
   "source": [
    "# Удаляем дубликаты и снова проводим проверку на количество дубликатов\n",
    "\n",
    "data = data.drop_duplicates().reset_index(drop=True)\n",
    "data.duplicated().sum()"
   ]
  },
  {
   "cell_type": "markdown",
   "metadata": {},
   "source": [
    "**Вывод** Перевели всё в нижний регистр и удалили дубликаты со сбросом текущего индекса.\n"
   ]
  },
  {
   "cell_type": "markdown",
   "metadata": {},
   "source": [
    "### Лемматизация"
   ]
  },
  {
   "cell_type": "code",
   "execution_count": 10,
   "metadata": {},
   "outputs": [
    {
     "data": {
      "text/html": [
       "<div>\n",
       "<style scoped>\n",
       "    .dataframe tbody tr th:only-of-type {\n",
       "        vertical-align: middle;\n",
       "    }\n",
       "\n",
       "    .dataframe tbody tr th {\n",
       "        vertical-align: top;\n",
       "    }\n",
       "\n",
       "    .dataframe thead th {\n",
       "        text-align: right;\n",
       "    }\n",
       "</style>\n",
       "<table border=\"1\" class=\"dataframe\">\n",
       "  <thead>\n",
       "    <tr style=\"text-align: right;\">\n",
       "      <th></th>\n",
       "      <th>children</th>\n",
       "      <th>days_employed</th>\n",
       "      <th>dob_years</th>\n",
       "      <th>education</th>\n",
       "      <th>education_id</th>\n",
       "      <th>family_status</th>\n",
       "      <th>family_status_id</th>\n",
       "      <th>gender</th>\n",
       "      <th>income_type</th>\n",
       "      <th>debt</th>\n",
       "      <th>total_income</th>\n",
       "      <th>purpose</th>\n",
       "      <th>purpose_lemma</th>\n",
       "    </tr>\n",
       "  </thead>\n",
       "  <tbody>\n",
       "    <tr>\n",
       "      <td>0</td>\n",
       "      <td>1</td>\n",
       "      <td>8437</td>\n",
       "      <td>42.0</td>\n",
       "      <td>высшее</td>\n",
       "      <td>0</td>\n",
       "      <td>женат / замужем</td>\n",
       "      <td>0</td>\n",
       "      <td>F</td>\n",
       "      <td>сотрудник</td>\n",
       "      <td>0</td>\n",
       "      <td>253875</td>\n",
       "      <td>покупка жилья</td>\n",
       "      <td>[покупка,  , жилье, \\n]</td>\n",
       "    </tr>\n",
       "    <tr>\n",
       "      <td>1</td>\n",
       "      <td>1</td>\n",
       "      <td>4024</td>\n",
       "      <td>36.0</td>\n",
       "      <td>среднее</td>\n",
       "      <td>1</td>\n",
       "      <td>женат / замужем</td>\n",
       "      <td>0</td>\n",
       "      <td>F</td>\n",
       "      <td>сотрудник</td>\n",
       "      <td>0</td>\n",
       "      <td>112080</td>\n",
       "      <td>приобретение автомобиля</td>\n",
       "      <td>[приобретение,  , автомобиль, \\n]</td>\n",
       "    </tr>\n",
       "    <tr>\n",
       "      <td>2</td>\n",
       "      <td>0</td>\n",
       "      <td>5623</td>\n",
       "      <td>33.0</td>\n",
       "      <td>среднее</td>\n",
       "      <td>1</td>\n",
       "      <td>женат / замужем</td>\n",
       "      <td>0</td>\n",
       "      <td>M</td>\n",
       "      <td>сотрудник</td>\n",
       "      <td>0</td>\n",
       "      <td>145885</td>\n",
       "      <td>покупка жилья</td>\n",
       "      <td>[покупка,  , жилье, \\n]</td>\n",
       "    </tr>\n",
       "    <tr>\n",
       "      <td>3</td>\n",
       "      <td>3</td>\n",
       "      <td>4124</td>\n",
       "      <td>32.0</td>\n",
       "      <td>среднее</td>\n",
       "      <td>1</td>\n",
       "      <td>женат / замужем</td>\n",
       "      <td>0</td>\n",
       "      <td>M</td>\n",
       "      <td>сотрудник</td>\n",
       "      <td>0</td>\n",
       "      <td>267628</td>\n",
       "      <td>дополнительное образование</td>\n",
       "      <td>[дополнительный,  , образование, \\n]</td>\n",
       "    </tr>\n",
       "    <tr>\n",
       "      <td>4</td>\n",
       "      <td>0</td>\n",
       "      <td>340266</td>\n",
       "      <td>53.0</td>\n",
       "      <td>среднее</td>\n",
       "      <td>1</td>\n",
       "      <td>гражданский брак</td>\n",
       "      <td>1</td>\n",
       "      <td>F</td>\n",
       "      <td>пенсионер</td>\n",
       "      <td>0</td>\n",
       "      <td>158616</td>\n",
       "      <td>сыграть свадьбу</td>\n",
       "      <td>[сыграть,  , свадьба, \\n]</td>\n",
       "    </tr>\n",
       "    <tr>\n",
       "      <td>...</td>\n",
       "      <td>...</td>\n",
       "      <td>...</td>\n",
       "      <td>...</td>\n",
       "      <td>...</td>\n",
       "      <td>...</td>\n",
       "      <td>...</td>\n",
       "      <td>...</td>\n",
       "      <td>...</td>\n",
       "      <td>...</td>\n",
       "      <td>...</td>\n",
       "      <td>...</td>\n",
       "      <td>...</td>\n",
       "      <td>...</td>\n",
       "    </tr>\n",
       "    <tr>\n",
       "      <td>21449</td>\n",
       "      <td>1</td>\n",
       "      <td>4529</td>\n",
       "      <td>43.0</td>\n",
       "      <td>среднее</td>\n",
       "      <td>1</td>\n",
       "      <td>гражданский брак</td>\n",
       "      <td>1</td>\n",
       "      <td>F</td>\n",
       "      <td>компаньон</td>\n",
       "      <td>0</td>\n",
       "      <td>224791</td>\n",
       "      <td>операции с жильем</td>\n",
       "      <td>[операция,  , с,  , жилье, \\n]</td>\n",
       "    </tr>\n",
       "    <tr>\n",
       "      <td>21450</td>\n",
       "      <td>0</td>\n",
       "      <td>343937</td>\n",
       "      <td>67.0</td>\n",
       "      <td>среднее</td>\n",
       "      <td>1</td>\n",
       "      <td>женат / замужем</td>\n",
       "      <td>0</td>\n",
       "      <td>F</td>\n",
       "      <td>пенсионер</td>\n",
       "      <td>0</td>\n",
       "      <td>155999</td>\n",
       "      <td>сделка с автомобилем</td>\n",
       "      <td>[сделка,  , с,  , автомобиль, \\n]</td>\n",
       "    </tr>\n",
       "    <tr>\n",
       "      <td>21451</td>\n",
       "      <td>1</td>\n",
       "      <td>2113</td>\n",
       "      <td>38.0</td>\n",
       "      <td>среднее</td>\n",
       "      <td>1</td>\n",
       "      <td>гражданский брак</td>\n",
       "      <td>1</td>\n",
       "      <td>M</td>\n",
       "      <td>сотрудник</td>\n",
       "      <td>1</td>\n",
       "      <td>89672</td>\n",
       "      <td>недвижимость</td>\n",
       "      <td>[недвижимость, \\n]</td>\n",
       "    </tr>\n",
       "    <tr>\n",
       "      <td>21452</td>\n",
       "      <td>3</td>\n",
       "      <td>3112</td>\n",
       "      <td>38.0</td>\n",
       "      <td>среднее</td>\n",
       "      <td>1</td>\n",
       "      <td>женат / замужем</td>\n",
       "      <td>0</td>\n",
       "      <td>M</td>\n",
       "      <td>сотрудник</td>\n",
       "      <td>1</td>\n",
       "      <td>244093</td>\n",
       "      <td>на покупку своего автомобиля</td>\n",
       "      <td>[на,  , покупка,  , свой,  , автомобиль, \\n]</td>\n",
       "    </tr>\n",
       "    <tr>\n",
       "      <td>21453</td>\n",
       "      <td>2</td>\n",
       "      <td>1984</td>\n",
       "      <td>40.0</td>\n",
       "      <td>среднее</td>\n",
       "      <td>1</td>\n",
       "      <td>женат / замужем</td>\n",
       "      <td>0</td>\n",
       "      <td>F</td>\n",
       "      <td>сотрудник</td>\n",
       "      <td>0</td>\n",
       "      <td>82047</td>\n",
       "      <td>на покупку автомобиля</td>\n",
       "      <td>[на,  , покупка,  , автомобиль, \\n]</td>\n",
       "    </tr>\n",
       "  </tbody>\n",
       "</table>\n",
       "<p>21454 rows × 13 columns</p>\n",
       "</div>"
      ],
      "text/plain": [
       "       children  days_employed  dob_years education  education_id  \\\n",
       "0             1           8437       42.0    высшее             0   \n",
       "1             1           4024       36.0   среднее             1   \n",
       "2             0           5623       33.0   среднее             1   \n",
       "3             3           4124       32.0   среднее             1   \n",
       "4             0         340266       53.0   среднее             1   \n",
       "...         ...            ...        ...       ...           ...   \n",
       "21449         1           4529       43.0   среднее             1   \n",
       "21450         0         343937       67.0   среднее             1   \n",
       "21451         1           2113       38.0   среднее             1   \n",
       "21452         3           3112       38.0   среднее             1   \n",
       "21453         2           1984       40.0   среднее             1   \n",
       "\n",
       "          family_status  family_status_id gender income_type  debt  \\\n",
       "0       женат / замужем                 0      F   сотрудник     0   \n",
       "1       женат / замужем                 0      F   сотрудник     0   \n",
       "2       женат / замужем                 0      M   сотрудник     0   \n",
       "3       женат / замужем                 0      M   сотрудник     0   \n",
       "4      гражданский брак                 1      F   пенсионер     0   \n",
       "...                 ...               ...    ...         ...   ...   \n",
       "21449  гражданский брак                 1      F   компаньон     0   \n",
       "21450   женат / замужем                 0      F   пенсионер     0   \n",
       "21451  гражданский брак                 1      M   сотрудник     1   \n",
       "21452   женат / замужем                 0      M   сотрудник     1   \n",
       "21453   женат / замужем                 0      F   сотрудник     0   \n",
       "\n",
       "       total_income                       purpose  \\\n",
       "0            253875                 покупка жилья   \n",
       "1            112080       приобретение автомобиля   \n",
       "2            145885                 покупка жилья   \n",
       "3            267628    дополнительное образование   \n",
       "4            158616               сыграть свадьбу   \n",
       "...             ...                           ...   \n",
       "21449        224791             операции с жильем   \n",
       "21450        155999          сделка с автомобилем   \n",
       "21451         89672                  недвижимость   \n",
       "21452        244093  на покупку своего автомобиля   \n",
       "21453         82047         на покупку автомобиля   \n",
       "\n",
       "                                      purpose_lemma  \n",
       "0                           [покупка,  , жилье, \\n]  \n",
       "1                 [приобретение,  , автомобиль, \\n]  \n",
       "2                           [покупка,  , жилье, \\n]  \n",
       "3              [дополнительный,  , образование, \\n]  \n",
       "4                         [сыграть,  , свадьба, \\n]  \n",
       "...                                             ...  \n",
       "21449                [операция,  , с,  , жилье, \\n]  \n",
       "21450             [сделка,  , с,  , автомобиль, \\n]  \n",
       "21451                            [недвижимость, \\n]  \n",
       "21452  [на,  , покупка,  , свой,  , автомобиль, \\n]  \n",
       "21453           [на,  , покупка,  , автомобиль, \\n]  \n",
       "\n",
       "[21454 rows x 13 columns]"
      ]
     },
     "execution_count": 10,
     "metadata": {},
     "output_type": "execute_result"
    }
   ],
   "source": [
    "# Импортируем библиотеку для леммитизации целей кредитования\n",
    "# Создаем функцию и используя метод apply лемметизируем столбец Purpose\n",
    "\n",
    "from pymystem3 import Mystem\n",
    "m = Mystem()\n",
    "\n",
    "def lemma(lem):\n",
    "    new_lem = m.lemmatize(lem)\n",
    "    return new_lem\n",
    "    \n",
    "data['purpose_lemma'] = data['purpose'].apply(lemma)\n",
    "data"
   ]
  },
  {
   "cell_type": "markdown",
   "metadata": {},
   "source": [
    "**Вывод** Провели леммитизацию целей кредитования. В дальнейшем это поможет категоризировать цели получения кредита."
   ]
  },
  {
   "cell_type": "markdown",
   "metadata": {},
   "source": [
    "### Категоризация данных"
   ]
  },
  {
   "cell_type": "code",
   "execution_count": 11,
   "metadata": {},
   "outputs": [
    {
     "name": "stdout",
     "output_type": "stream",
     "text": [
      "Минимальный доход: 20667\n",
      "Максимальный доход: 2265604\n",
      "Медианный доход: 145017\n",
      "\n"
     ]
    },
    {
     "data": {
      "text/html": [
       "<div>\n",
       "<style scoped>\n",
       "    .dataframe tbody tr th:only-of-type {\n",
       "        vertical-align: middle;\n",
       "    }\n",
       "\n",
       "    .dataframe tbody tr th {\n",
       "        vertical-align: top;\n",
       "    }\n",
       "\n",
       "    .dataframe thead th {\n",
       "        text-align: right;\n",
       "    }\n",
       "</style>\n",
       "<table border=\"1\" class=\"dataframe\">\n",
       "  <thead>\n",
       "    <tr style=\"text-align: right;\">\n",
       "      <th></th>\n",
       "      <th>children</th>\n",
       "      <th>days_employed</th>\n",
       "      <th>dob_years</th>\n",
       "      <th>education</th>\n",
       "      <th>education_id</th>\n",
       "      <th>family_status</th>\n",
       "      <th>family_status_id</th>\n",
       "      <th>gender</th>\n",
       "      <th>income_type</th>\n",
       "      <th>debt</th>\n",
       "      <th>total_income</th>\n",
       "      <th>purpose</th>\n",
       "      <th>purpose_lemma</th>\n",
       "      <th>category_purpose</th>\n",
       "      <th>income_rate</th>\n",
       "      <th>age_status</th>\n",
       "    </tr>\n",
       "  </thead>\n",
       "  <tbody>\n",
       "    <tr>\n",
       "      <td>0</td>\n",
       "      <td>1</td>\n",
       "      <td>8437</td>\n",
       "      <td>42.0</td>\n",
       "      <td>высшее</td>\n",
       "      <td>0</td>\n",
       "      <td>женат / замужем</td>\n",
       "      <td>0</td>\n",
       "      <td>F</td>\n",
       "      <td>сотрудник</td>\n",
       "      <td>0</td>\n",
       "      <td>253875</td>\n",
       "      <td>покупка жилья</td>\n",
       "      <td>[покупка,  , жилье, \\n]</td>\n",
       "      <td>жилье</td>\n",
       "      <td>высокие доходы</td>\n",
       "      <td>взрослые</td>\n",
       "    </tr>\n",
       "    <tr>\n",
       "      <td>1</td>\n",
       "      <td>1</td>\n",
       "      <td>4024</td>\n",
       "      <td>36.0</td>\n",
       "      <td>среднее</td>\n",
       "      <td>1</td>\n",
       "      <td>женат / замужем</td>\n",
       "      <td>0</td>\n",
       "      <td>F</td>\n",
       "      <td>сотрудник</td>\n",
       "      <td>0</td>\n",
       "      <td>112080</td>\n",
       "      <td>приобретение автомобиля</td>\n",
       "      <td>[приобретение,  , автомобиль, \\n]</td>\n",
       "      <td>авто</td>\n",
       "      <td>средние доходы</td>\n",
       "      <td>взрослые</td>\n",
       "    </tr>\n",
       "    <tr>\n",
       "      <td>2</td>\n",
       "      <td>0</td>\n",
       "      <td>5623</td>\n",
       "      <td>33.0</td>\n",
       "      <td>среднее</td>\n",
       "      <td>1</td>\n",
       "      <td>женат / замужем</td>\n",
       "      <td>0</td>\n",
       "      <td>M</td>\n",
       "      <td>сотрудник</td>\n",
       "      <td>0</td>\n",
       "      <td>145885</td>\n",
       "      <td>покупка жилья</td>\n",
       "      <td>[покупка,  , жилье, \\n]</td>\n",
       "      <td>жилье</td>\n",
       "      <td>высокие доходы</td>\n",
       "      <td>молодёжь</td>\n",
       "    </tr>\n",
       "    <tr>\n",
       "      <td>3</td>\n",
       "      <td>3</td>\n",
       "      <td>4124</td>\n",
       "      <td>32.0</td>\n",
       "      <td>среднее</td>\n",
       "      <td>1</td>\n",
       "      <td>женат / замужем</td>\n",
       "      <td>0</td>\n",
       "      <td>M</td>\n",
       "      <td>сотрудник</td>\n",
       "      <td>0</td>\n",
       "      <td>267628</td>\n",
       "      <td>дополнительное образование</td>\n",
       "      <td>[дополнительный,  , образование, \\n]</td>\n",
       "      <td>образование</td>\n",
       "      <td>высокие доходы</td>\n",
       "      <td>молодёжь</td>\n",
       "    </tr>\n",
       "    <tr>\n",
       "      <td>4</td>\n",
       "      <td>0</td>\n",
       "      <td>340266</td>\n",
       "      <td>53.0</td>\n",
       "      <td>среднее</td>\n",
       "      <td>1</td>\n",
       "      <td>гражданский брак</td>\n",
       "      <td>1</td>\n",
       "      <td>F</td>\n",
       "      <td>пенсионер</td>\n",
       "      <td>0</td>\n",
       "      <td>158616</td>\n",
       "      <td>сыграть свадьбу</td>\n",
       "      <td>[сыграть,  , свадьба, \\n]</td>\n",
       "      <td>свадьба</td>\n",
       "      <td>высокие доходы</td>\n",
       "      <td>взрослые</td>\n",
       "    </tr>\n",
       "    <tr>\n",
       "      <td>...</td>\n",
       "      <td>...</td>\n",
       "      <td>...</td>\n",
       "      <td>...</td>\n",
       "      <td>...</td>\n",
       "      <td>...</td>\n",
       "      <td>...</td>\n",
       "      <td>...</td>\n",
       "      <td>...</td>\n",
       "      <td>...</td>\n",
       "      <td>...</td>\n",
       "      <td>...</td>\n",
       "      <td>...</td>\n",
       "      <td>...</td>\n",
       "      <td>...</td>\n",
       "      <td>...</td>\n",
       "      <td>...</td>\n",
       "    </tr>\n",
       "    <tr>\n",
       "      <td>21449</td>\n",
       "      <td>1</td>\n",
       "      <td>4529</td>\n",
       "      <td>43.0</td>\n",
       "      <td>среднее</td>\n",
       "      <td>1</td>\n",
       "      <td>гражданский брак</td>\n",
       "      <td>1</td>\n",
       "      <td>F</td>\n",
       "      <td>компаньон</td>\n",
       "      <td>0</td>\n",
       "      <td>224791</td>\n",
       "      <td>операции с жильем</td>\n",
       "      <td>[операция,  , с,  , жилье, \\n]</td>\n",
       "      <td>жилье</td>\n",
       "      <td>высокие доходы</td>\n",
       "      <td>взрослые</td>\n",
       "    </tr>\n",
       "    <tr>\n",
       "      <td>21450</td>\n",
       "      <td>0</td>\n",
       "      <td>343937</td>\n",
       "      <td>67.0</td>\n",
       "      <td>среднее</td>\n",
       "      <td>1</td>\n",
       "      <td>женат / замужем</td>\n",
       "      <td>0</td>\n",
       "      <td>F</td>\n",
       "      <td>пенсионер</td>\n",
       "      <td>0</td>\n",
       "      <td>155999</td>\n",
       "      <td>сделка с автомобилем</td>\n",
       "      <td>[сделка,  , с,  , автомобиль, \\n]</td>\n",
       "      <td>авто</td>\n",
       "      <td>высокие доходы</td>\n",
       "      <td>пенсионеры</td>\n",
       "    </tr>\n",
       "    <tr>\n",
       "      <td>21451</td>\n",
       "      <td>1</td>\n",
       "      <td>2113</td>\n",
       "      <td>38.0</td>\n",
       "      <td>среднее</td>\n",
       "      <td>1</td>\n",
       "      <td>гражданский брак</td>\n",
       "      <td>1</td>\n",
       "      <td>M</td>\n",
       "      <td>сотрудник</td>\n",
       "      <td>1</td>\n",
       "      <td>89672</td>\n",
       "      <td>недвижимость</td>\n",
       "      <td>[недвижимость, \\n]</td>\n",
       "      <td>недвижимость</td>\n",
       "      <td>средние доходы</td>\n",
       "      <td>взрослые</td>\n",
       "    </tr>\n",
       "    <tr>\n",
       "      <td>21452</td>\n",
       "      <td>3</td>\n",
       "      <td>3112</td>\n",
       "      <td>38.0</td>\n",
       "      <td>среднее</td>\n",
       "      <td>1</td>\n",
       "      <td>женат / замужем</td>\n",
       "      <td>0</td>\n",
       "      <td>M</td>\n",
       "      <td>сотрудник</td>\n",
       "      <td>1</td>\n",
       "      <td>244093</td>\n",
       "      <td>на покупку своего автомобиля</td>\n",
       "      <td>[на,  , покупка,  , свой,  , автомобиль, \\n]</td>\n",
       "      <td>авто</td>\n",
       "      <td>высокие доходы</td>\n",
       "      <td>взрослые</td>\n",
       "    </tr>\n",
       "    <tr>\n",
       "      <td>21453</td>\n",
       "      <td>2</td>\n",
       "      <td>1984</td>\n",
       "      <td>40.0</td>\n",
       "      <td>среднее</td>\n",
       "      <td>1</td>\n",
       "      <td>женат / замужем</td>\n",
       "      <td>0</td>\n",
       "      <td>F</td>\n",
       "      <td>сотрудник</td>\n",
       "      <td>0</td>\n",
       "      <td>82047</td>\n",
       "      <td>на покупку автомобиля</td>\n",
       "      <td>[на,  , покупка,  , автомобиль, \\n]</td>\n",
       "      <td>авто</td>\n",
       "      <td>средние доходы</td>\n",
       "      <td>взрослые</td>\n",
       "    </tr>\n",
       "  </tbody>\n",
       "</table>\n",
       "<p>21454 rows × 16 columns</p>\n",
       "</div>"
      ],
      "text/plain": [
       "       children  days_employed  dob_years education  education_id  \\\n",
       "0             1           8437       42.0    высшее             0   \n",
       "1             1           4024       36.0   среднее             1   \n",
       "2             0           5623       33.0   среднее             1   \n",
       "3             3           4124       32.0   среднее             1   \n",
       "4             0         340266       53.0   среднее             1   \n",
       "...         ...            ...        ...       ...           ...   \n",
       "21449         1           4529       43.0   среднее             1   \n",
       "21450         0         343937       67.0   среднее             1   \n",
       "21451         1           2113       38.0   среднее             1   \n",
       "21452         3           3112       38.0   среднее             1   \n",
       "21453         2           1984       40.0   среднее             1   \n",
       "\n",
       "          family_status  family_status_id gender income_type  debt  \\\n",
       "0       женат / замужем                 0      F   сотрудник     0   \n",
       "1       женат / замужем                 0      F   сотрудник     0   \n",
       "2       женат / замужем                 0      M   сотрудник     0   \n",
       "3       женат / замужем                 0      M   сотрудник     0   \n",
       "4      гражданский брак                 1      F   пенсионер     0   \n",
       "...                 ...               ...    ...         ...   ...   \n",
       "21449  гражданский брак                 1      F   компаньон     0   \n",
       "21450   женат / замужем                 0      F   пенсионер     0   \n",
       "21451  гражданский брак                 1      M   сотрудник     1   \n",
       "21452   женат / замужем                 0      M   сотрудник     1   \n",
       "21453   женат / замужем                 0      F   сотрудник     0   \n",
       "\n",
       "       total_income                       purpose  \\\n",
       "0            253875                 покупка жилья   \n",
       "1            112080       приобретение автомобиля   \n",
       "2            145885                 покупка жилья   \n",
       "3            267628    дополнительное образование   \n",
       "4            158616               сыграть свадьбу   \n",
       "...             ...                           ...   \n",
       "21449        224791             операции с жильем   \n",
       "21450        155999          сделка с автомобилем   \n",
       "21451         89672                  недвижимость   \n",
       "21452        244093  на покупку своего автомобиля   \n",
       "21453         82047         на покупку автомобиля   \n",
       "\n",
       "                                      purpose_lemma category_purpose  \\\n",
       "0                           [покупка,  , жилье, \\n]            жилье   \n",
       "1                 [приобретение,  , автомобиль, \\n]             авто   \n",
       "2                           [покупка,  , жилье, \\n]            жилье   \n",
       "3              [дополнительный,  , образование, \\n]      образование   \n",
       "4                         [сыграть,  , свадьба, \\n]          свадьба   \n",
       "...                                             ...              ...   \n",
       "21449                [операция,  , с,  , жилье, \\n]            жилье   \n",
       "21450             [сделка,  , с,  , автомобиль, \\n]             авто   \n",
       "21451                            [недвижимость, \\n]     недвижимость   \n",
       "21452  [на,  , покупка,  , свой,  , автомобиль, \\n]             авто   \n",
       "21453           [на,  , покупка,  , автомобиль, \\n]             авто   \n",
       "\n",
       "          income_rate  age_status  \n",
       "0      высокие доходы    взрослые  \n",
       "1      средние доходы    взрослые  \n",
       "2      высокие доходы    молодёжь  \n",
       "3      высокие доходы    молодёжь  \n",
       "4      высокие доходы    взрослые  \n",
       "...               ...         ...  \n",
       "21449  высокие доходы    взрослые  \n",
       "21450  высокие доходы  пенсионеры  \n",
       "21451  средние доходы    взрослые  \n",
       "21452  высокие доходы    взрослые  \n",
       "21453  средние доходы    взрослые  \n",
       "\n",
       "[21454 rows x 16 columns]"
      ]
     },
     "execution_count": 11,
     "metadata": {},
     "output_type": "execute_result"
    }
   ],
   "source": [
    "# Категоризируем леммитизированный столбец в новом столбце\n",
    "def purpose(lem):\n",
    "    if 'автомобиль' in lem:\n",
    "        return 'авто'\n",
    "    elif 'свадьба' in lem:\n",
    "        return 'свадьба'\n",
    "    elif 'недвижимость' in lem:\n",
    "        return 'недвижимость'\n",
    "    elif 'жилье' in lem:\n",
    "        return 'жилье'\n",
    "    elif 'образование' in lem:\n",
    "        return 'образование'\n",
    "    else:\n",
    "        return 'другое'\n",
    "    \n",
    "data['category_purpose'] = data['purpose_lemma'].apply(purpose)\n",
    "\n",
    "median_income = data['total_income'].median()\n",
    "min_income = data['total_income'].min()\n",
    "max_income = data['total_income'].max()\n",
    "\n",
    "print(f'Минимальный доход: {int(min_income)}\\nМаксимальный доход: {int(max_income)}\\nМедианный доход: {int(median_income)}\\n')\n",
    "\n",
    "def income(i):\n",
    "    if i < 60000:\n",
    "        return 'низкие доходы'\n",
    "    elif 60000 < i < 120000:\n",
    "        return 'средние доходы'\n",
    "    else:\n",
    "        return 'высокие доходы'\n",
    "    \n",
    "data['income_rate'] = data['total_income'].apply(income)\n",
    "\n",
    "def age(i):\n",
    "    if i < 35: #11 ноября 2020 года Государственная дума одобрила проект о повышении возраста молодёжи до 35 лет (с 14 до 35 лет).\n",
    "        return 'молодёжь'\n",
    "    elif 35 < i < 60:\n",
    "        return 'взрослые'\n",
    "    else:\n",
    "        return 'пенсионеры'\n",
    "    \n",
    "data['age_status'] = data['dob_years'].apply(age)\n",
    "data"
   ]
  },
  {
   "cell_type": "markdown",
   "metadata": {},
   "source": [
    "**Вывод** Провел категоризацию по целям кредитования. Посчитал минимальный, максимальный и медианные доходы. Условно разделил доходы на высокие, средние и низкие. Взял данные из открытых источников по доходам в <a href=\"https://www.rbc.ru/economics/18/06/2018/5b27bf829a794710796bbfe5\">России</a>. Добавили возрастную категоризацию, для того, чтобы сделать удобные выводы по возрастной категории."
   ]
  },
  {
   "cell_type": "markdown",
   "metadata": {},
   "source": [
    "## Шаг 3. Ответьте на вопросы"
   ]
  },
  {
   "cell_type": "markdown",
   "metadata": {},
   "source": [
    "- Есть ли зависимость между наличием детей и возвратом кредита в срок?"
   ]
  },
  {
   "cell_type": "code",
   "execution_count": 12,
   "metadata": {},
   "outputs": [
    {
     "data": {
      "text/plain": [
       "children\n",
       "0    0.075598\n",
       "1    0.091658\n",
       "2    0.094542\n",
       "3    0.081818\n",
       "4    0.097561\n",
       "5    0.000000\n",
       "Name: debt, dtype: float64"
      ]
     },
     "execution_count": 12,
     "metadata": {},
     "output_type": "execute_result"
    }
   ],
   "source": [
    "data.groupby('children')['debt'].mean()"
   ]
  },
  {
   "cell_type": "markdown",
   "metadata": {},
   "source": [
    "**Вывод** Как видим из данных, клиенты у которых нет детей имеют меньше задолженностей (7.54%). Есть предположение, что из-за отсутствия детей такие клиенты имеют больше свободных денег, что сказывается и на выплате долгов."
   ]
  },
  {
   "cell_type": "markdown",
   "metadata": {},
   "source": [
    "- Есть ли зависимость между семейным положением и возвратом кредита в срок?"
   ]
  },
  {
   "cell_type": "code",
   "execution_count": 13,
   "metadata": {},
   "outputs": [
    {
     "data": {
      "text/plain": [
       "family_status\n",
       "в разводе                0.071130\n",
       "вдовец / вдова           0.065693\n",
       "гражданский брак         0.093471\n",
       "женат / замужем          0.075452\n",
       "не женат / не замужем    0.097509\n",
       "Name: debt, dtype: float64"
      ]
     },
     "execution_count": 13,
     "metadata": {},
     "output_type": "execute_result"
    }
   ],
   "source": [
    "data.groupby('family_status')['debt'].mean()"
   ]
  },
  {
   "cell_type": "code",
   "execution_count": 14,
   "metadata": {},
   "outputs": [
    {
     "name": "stdout",
     "output_type": "stream",
     "text": [
      "Медианные доходы вдов и вдовцов: 136897\n",
      "Медианный возраст вдов и вдовцов: 58\n"
     ]
    }
   ],
   "source": [
    "# Находим медианный возраст и медианные доходы вдов и вдовцов\n",
    "widows = data[data['family_status'] == 'вдовец / вдова']\n",
    "widows_median_age = widows['dob_years'].median()\n",
    "widows_median_income = widows['total_income'].median()\n",
    "print(f'Медианные доходы вдов и вдовцов: {int(widows_median_income)}\\nМедианный возраст вдов и вдовцов: {int(widows_median_age)}')"
   ]
  },
  {
   "cell_type": "code",
   "execution_count": 15,
   "metadata": {},
   "outputs": [
    {
     "name": "stdout",
     "output_type": "stream",
     "text": [
      "Медианные доходы одиночек: 145017\n",
      "Медианный возраст одиночек: 36\n"
     ]
    }
   ],
   "source": [
    "# Находим медианный возраст и медианные доходы не одиночек\n",
    "single = data[data['family_status'] == 'не женат / не замужем']\n",
    "single_median_age = single['dob_years'].median()\n",
    "single_median_income = single['total_income'].median()\n",
    "print(f'Медианные доходы одиночек: {int(single_median_income)}\\nМедианный возраст одиночек: {int(single_median_age)}')"
   ]
  },
  {
   "cell_type": "markdown",
   "metadata": {},
   "source": [
    "**Вывод** Из таблицы видим, что вдовцы/вдовы лучше оплачивают задолженность, хоть их доходы в медиане и ниже, чем у одиночек на 9 тысяч. Предполагаем, что из-за возраста вдовцы/вдовы меньше тратят денег на содержание своей жизни, чем молодые люди, которые только пытаются обустроить свою жизнь."
   ]
  },
  {
   "cell_type": "markdown",
   "metadata": {},
   "source": [
    "- Есть ли зависимость между уровнем дохода и возвратом кредита в срок?"
   ]
  },
  {
   "cell_type": "code",
   "execution_count": 16,
   "metadata": {},
   "outputs": [
    {
     "data": {
      "text/html": [
       "<div>\n",
       "<style scoped>\n",
       "    .dataframe tbody tr th:only-of-type {\n",
       "        vertical-align: middle;\n",
       "    }\n",
       "\n",
       "    .dataframe tbody tr th {\n",
       "        vertical-align: top;\n",
       "    }\n",
       "\n",
       "    .dataframe thead th {\n",
       "        text-align: right;\n",
       "    }\n",
       "</style>\n",
       "<table border=\"1\" class=\"dataframe\">\n",
       "  <thead>\n",
       "    <tr style=\"text-align: right;\">\n",
       "      <th></th>\n",
       "      <th>mean, %</th>\n",
       "      <th>clients_with_debt</th>\n",
       "    </tr>\n",
       "    <tr>\n",
       "      <th>income_rate</th>\n",
       "      <th></th>\n",
       "      <th></th>\n",
       "    </tr>\n",
       "  </thead>\n",
       "  <tbody>\n",
       "    <tr>\n",
       "      <td>высокие доходы</td>\n",
       "      <td>8.15%</td>\n",
       "      <td>1190</td>\n",
       "    </tr>\n",
       "    <tr>\n",
       "      <td>низкие доходы</td>\n",
       "      <td>6.08%</td>\n",
       "      <td>49</td>\n",
       "    </tr>\n",
       "    <tr>\n",
       "      <td>средние доходы</td>\n",
       "      <td>8.31%</td>\n",
       "      <td>502</td>\n",
       "    </tr>\n",
       "  </tbody>\n",
       "</table>\n",
       "</div>"
      ],
      "text/plain": [
       "               mean, %  clients_with_debt\n",
       "income_rate                              \n",
       "высокие доходы   8.15%               1190\n",
       "низкие доходы    6.08%                 49\n",
       "средние доходы   8.31%                502"
      ]
     },
     "execution_count": 16,
     "metadata": {},
     "output_type": "execute_result"
    }
   ],
   "source": [
    "data_income = data.pivot_table(index=['income_rate'], values='debt', aggfunc='mean')\n",
    "data_income['clients_with_debt'] = data.groupby('income_rate')['debt'].sum()\n",
    "def percent(i):\n",
    "    return \"{0:.2%}\".format(i)\n",
    "\n",
    "data_income['debt'] = data_income['debt'].apply(percent)\n",
    "data_income = data_income.rename(columns={\"debt\": \"mean, %\"})\n",
    "data_income"
   ]
  },
  {
   "cell_type": "markdown",
   "metadata": {},
   "source": [
    "**Вывод** Предполагается, что клиенты с низким доходам очень тщательно следят за кредитной историей, чтобы в следующий раз получить кредит. Клиенты с высоким и средним доходам меньше следят за своей кредитной историей, поэтому в среднем они больше имеют задолженностей по кредиту."
   ]
  },
  {
   "cell_type": "markdown",
   "metadata": {},
   "source": []
  },
  {
   "cell_type": "markdown",
   "metadata": {},
   "source": [
    "- Как разные цели кредита влияют на его возврат в срок?"
   ]
  },
  {
   "cell_type": "code",
   "execution_count": 17,
   "metadata": {},
   "outputs": [
    {
     "data": {
      "text/html": [
       "<div>\n",
       "<style scoped>\n",
       "    .dataframe tbody tr th:only-of-type {\n",
       "        vertical-align: middle;\n",
       "    }\n",
       "\n",
       "    .dataframe tbody tr th {\n",
       "        vertical-align: top;\n",
       "    }\n",
       "\n",
       "    .dataframe thead th {\n",
       "        text-align: right;\n",
       "    }\n",
       "</style>\n",
       "<table border=\"1\" class=\"dataframe\">\n",
       "  <thead>\n",
       "    <tr style=\"text-align: right;\">\n",
       "      <th></th>\n",
       "      <th>mean, %</th>\n",
       "      <th>clients_with_debt</th>\n",
       "    </tr>\n",
       "    <tr>\n",
       "      <th>category_purpose</th>\n",
       "      <th></th>\n",
       "      <th></th>\n",
       "    </tr>\n",
       "  </thead>\n",
       "  <tbody>\n",
       "    <tr>\n",
       "      <td>авто</td>\n",
       "      <td>9.36%</td>\n",
       "      <td>403</td>\n",
       "    </tr>\n",
       "    <tr>\n",
       "      <td>жилье</td>\n",
       "      <td>6.91%</td>\n",
       "      <td>308</td>\n",
       "    </tr>\n",
       "    <tr>\n",
       "      <td>недвижимость</td>\n",
       "      <td>7.46%</td>\n",
       "      <td>474</td>\n",
       "    </tr>\n",
       "    <tr>\n",
       "      <td>образование</td>\n",
       "      <td>9.22%</td>\n",
       "      <td>370</td>\n",
       "    </tr>\n",
       "    <tr>\n",
       "      <td>свадьба</td>\n",
       "      <td>8.00%</td>\n",
       "      <td>186</td>\n",
       "    </tr>\n",
       "  </tbody>\n",
       "</table>\n",
       "</div>"
      ],
      "text/plain": [
       "                 mean, %  clients_with_debt\n",
       "category_purpose                           \n",
       "авто               9.36%                403\n",
       "жилье              6.91%                308\n",
       "недвижимость       7.46%                474\n",
       "образование        9.22%                370\n",
       "свадьба            8.00%                186"
      ]
     },
     "execution_count": 17,
     "metadata": {},
     "output_type": "execute_result"
    }
   ],
   "source": [
    "purpose_data = data.pivot_table(index=['category_purpose'], values='debt', aggfunc='mean')\n",
    "purpose_data['clients_with_debt'] = data.groupby('category_purpose')['debt'].sum()\n",
    "def percent(i):\n",
    "    return \"{0:.2%}\".format(i)\n",
    "\n",
    "purpose_data['debt'] = purpose_data['debt'].apply(percent)\n",
    "purpose_data = purpose_data.rename(columns={\"debt\": \"mean, %\"})\n",
    "purpose_data"
   ]
  },
  {
   "cell_type": "markdown",
   "metadata": {},
   "source": [
    "**Вывод** Лучшие показатели по возврату долгов в разделе \"жилье\". Наименее ответственные клиенты в категории авто."
   ]
  },
  {
   "cell_type": "markdown",
   "metadata": {},
   "source": [
    "## Шаг 4. Общий вывод"
   ]
  },
  {
   "cell_type": "markdown",
   "metadata": {},
   "source": [
    "**Выводы**\n",
    "1. Дети: Лучшие клиенты взрослые (от 35 до 60 лет) с 5 детьми. Хуже всех возвращают кредиты пенсионеры с 3 детьми.\n",
    "2. Семейный статус: Лучшие клиенты замужние/женатые пенсионеры. Худшие - не женатые/не замужние молодежь.\n",
    "3. Доходы: Пенсионеры со средним доходом. Худшие - молодежь со средним доходом.\n",
    "4. Цель кредитования: Лучшие клиенты пенсионеры получающие кредит с целью покупки недвижимости. Худшими по возвращаемости кредитов является молодежь, берущая займ на образование.\n",
    "\n",
    "Пс. Не стал учитывать сегменты клиентов, в которых меньше 50 человек (считаю, что нужно больше данных по таким клиентам, чтобы объективно сравнивать с другими сегментами)."
   ]
  },
  {
   "cell_type": "code",
   "execution_count": 18,
   "metadata": {},
   "outputs": [
    {
     "data": {
      "text/html": [
       "<div>\n",
       "<style scoped>\n",
       "    .dataframe tbody tr th:only-of-type {\n",
       "        vertical-align: middle;\n",
       "    }\n",
       "\n",
       "    .dataframe tbody tr th {\n",
       "        vertical-align: top;\n",
       "    }\n",
       "\n",
       "    .dataframe thead th {\n",
       "        text-align: right;\n",
       "    }\n",
       "</style>\n",
       "<table border=\"1\" class=\"dataframe\">\n",
       "  <thead>\n",
       "    <tr style=\"text-align: right;\">\n",
       "      <th></th>\n",
       "      <th></th>\n",
       "      <th>debt, %</th>\n",
       "      <th>clients_with_debt</th>\n",
       "      <th>clients_overall</th>\n",
       "    </tr>\n",
       "    <tr>\n",
       "      <th>children</th>\n",
       "      <th>age_status</th>\n",
       "      <th></th>\n",
       "      <th></th>\n",
       "      <th></th>\n",
       "    </tr>\n",
       "  </thead>\n",
       "  <tbody>\n",
       "    <tr>\n",
       "      <td rowspan=\"3\" valign=\"top\">0</td>\n",
       "      <td>взрослые</td>\n",
       "      <td>7.09%</td>\n",
       "      <td>602</td>\n",
       "      <td>8494</td>\n",
       "    </tr>\n",
       "    <tr>\n",
       "      <td>молодёжь</td>\n",
       "      <td>10.85%</td>\n",
       "      <td>335</td>\n",
       "      <td>3088</td>\n",
       "    </tr>\n",
       "    <tr>\n",
       "      <td>пенсионеры</td>\n",
       "      <td>5.18%</td>\n",
       "      <td>134</td>\n",
       "      <td>2585</td>\n",
       "    </tr>\n",
       "    <tr>\n",
       "      <td rowspan=\"3\" valign=\"top\">1</td>\n",
       "      <td>взрослые</td>\n",
       "      <td>8.25%</td>\n",
       "      <td>220</td>\n",
       "      <td>2666</td>\n",
       "    </tr>\n",
       "    <tr>\n",
       "      <td>молодёжь</td>\n",
       "      <td>11.11%</td>\n",
       "      <td>202</td>\n",
       "      <td>1818</td>\n",
       "    </tr>\n",
       "    <tr>\n",
       "      <td>пенсионеры</td>\n",
       "      <td>6.20%</td>\n",
       "      <td>23</td>\n",
       "      <td>371</td>\n",
       "    </tr>\n",
       "    <tr>\n",
       "      <td rowspan=\"3\" valign=\"top\">2</td>\n",
       "      <td>взрослые</td>\n",
       "      <td>8.07%</td>\n",
       "      <td>82</td>\n",
       "      <td>1016</td>\n",
       "    </tr>\n",
       "    <tr>\n",
       "      <td>молодёжь</td>\n",
       "      <td>11.26%</td>\n",
       "      <td>101</td>\n",
       "      <td>897</td>\n",
       "    </tr>\n",
       "    <tr>\n",
       "      <td>пенсионеры</td>\n",
       "      <td>7.91%</td>\n",
       "      <td>11</td>\n",
       "      <td>139</td>\n",
       "    </tr>\n",
       "    <tr>\n",
       "      <td rowspan=\"3\" valign=\"top\">3</td>\n",
       "      <td>взрослые</td>\n",
       "      <td>8.24%</td>\n",
       "      <td>14</td>\n",
       "      <td>170</td>\n",
       "    </tr>\n",
       "    <tr>\n",
       "      <td>молодёжь</td>\n",
       "      <td>7.69%</td>\n",
       "      <td>11</td>\n",
       "      <td>143</td>\n",
       "    </tr>\n",
       "    <tr>\n",
       "      <td>пенсионеры</td>\n",
       "      <td>11.76%</td>\n",
       "      <td>2</td>\n",
       "      <td>17</td>\n",
       "    </tr>\n",
       "    <tr>\n",
       "      <td rowspan=\"3\" valign=\"top\">4</td>\n",
       "      <td>взрослые</td>\n",
       "      <td>10.53%</td>\n",
       "      <td>2</td>\n",
       "      <td>19</td>\n",
       "    </tr>\n",
       "    <tr>\n",
       "      <td>молодёжь</td>\n",
       "      <td>10.00%</td>\n",
       "      <td>2</td>\n",
       "      <td>20</td>\n",
       "    </tr>\n",
       "    <tr>\n",
       "      <td>пенсионеры</td>\n",
       "      <td>0.00%</td>\n",
       "      <td>0</td>\n",
       "      <td>2</td>\n",
       "    </tr>\n",
       "    <tr>\n",
       "      <td rowspan=\"3\" valign=\"top\">5</td>\n",
       "      <td>взрослые</td>\n",
       "      <td>0.00%</td>\n",
       "      <td>0</td>\n",
       "      <td>6</td>\n",
       "    </tr>\n",
       "    <tr>\n",
       "      <td>молодёжь</td>\n",
       "      <td>0.00%</td>\n",
       "      <td>0</td>\n",
       "      <td>1</td>\n",
       "    </tr>\n",
       "    <tr>\n",
       "      <td>пенсионеры</td>\n",
       "      <td>0.00%</td>\n",
       "      <td>0</td>\n",
       "      <td>2</td>\n",
       "    </tr>\n",
       "  </tbody>\n",
       "</table>\n",
       "</div>"
      ],
      "text/plain": [
       "                    debt, %  clients_with_debt  clients_overall\n",
       "children age_status                                            \n",
       "0        взрослые     7.09%                602             8494\n",
       "         молодёжь    10.85%                335             3088\n",
       "         пенсионеры   5.18%                134             2585\n",
       "1        взрослые     8.25%                220             2666\n",
       "         молодёжь    11.11%                202             1818\n",
       "         пенсионеры   6.20%                 23              371\n",
       "2        взрослые     8.07%                 82             1016\n",
       "         молодёжь    11.26%                101              897\n",
       "         пенсионеры   7.91%                 11              139\n",
       "3        взрослые     8.24%                 14              170\n",
       "         молодёжь     7.69%                 11              143\n",
       "         пенсионеры  11.76%                  2               17\n",
       "4        взрослые    10.53%                  2               19\n",
       "         молодёжь    10.00%                  2               20\n",
       "         пенсионеры   0.00%                  0                2\n",
       "5        взрослые     0.00%                  0                6\n",
       "         молодёжь     0.00%                  0                1\n",
       "         пенсионеры   0.00%                  0                2"
      ]
     },
     "execution_count": 18,
     "metadata": {},
     "output_type": "execute_result"
    }
   ],
   "source": [
    "children = data.pivot_table(index=['children', 'age_status'], values='debt', aggfunc='mean')\n",
    "\n",
    "def percent(i):\n",
    "    return \"{0:.2%}\".format(i)\n",
    "\n",
    "children['clients_with_debt'] = data.groupby(['children','age_status'])['debt'].sum()\n",
    "children['clients_overall'] = data.groupby(['children','age_status'])['debt'].count()\n",
    "children['debt'] = children['debt'].apply(percent)\n",
    "children = children.rename(columns={'debt':'debt, %'})\n",
    "children"
   ]
  },
  {
   "cell_type": "code",
   "execution_count": 19,
   "metadata": {},
   "outputs": [
    {
     "data": {
      "text/html": [
       "<div>\n",
       "<style scoped>\n",
       "    .dataframe tbody tr th:only-of-type {\n",
       "        vertical-align: middle;\n",
       "    }\n",
       "\n",
       "    .dataframe tbody tr th {\n",
       "        vertical-align: top;\n",
       "    }\n",
       "\n",
       "    .dataframe thead th {\n",
       "        text-align: right;\n",
       "    }\n",
       "</style>\n",
       "<table border=\"1\" class=\"dataframe\">\n",
       "  <thead>\n",
       "    <tr style=\"text-align: right;\">\n",
       "      <th></th>\n",
       "      <th></th>\n",
       "      <th>debt, %</th>\n",
       "      <th>clients_with_debt</th>\n",
       "      <th>clients_overall</th>\n",
       "    </tr>\n",
       "    <tr>\n",
       "      <th>family_status</th>\n",
       "      <th>age_status</th>\n",
       "      <th></th>\n",
       "      <th></th>\n",
       "      <th></th>\n",
       "    </tr>\n",
       "  </thead>\n",
       "  <tbody>\n",
       "    <tr>\n",
       "      <td rowspan=\"3\" valign=\"top\">в разводе</td>\n",
       "      <td>взрослые</td>\n",
       "      <td>6.19%</td>\n",
       "      <td>50</td>\n",
       "      <td>808</td>\n",
       "    </tr>\n",
       "    <tr>\n",
       "      <td>молодёжь</td>\n",
       "      <td>11.44%</td>\n",
       "      <td>23</td>\n",
       "      <td>201</td>\n",
       "    </tr>\n",
       "    <tr>\n",
       "      <td>пенсионеры</td>\n",
       "      <td>6.45%</td>\n",
       "      <td>12</td>\n",
       "      <td>186</td>\n",
       "    </tr>\n",
       "    <tr>\n",
       "      <td rowspan=\"3\" valign=\"top\">вдовец / вдова</td>\n",
       "      <td>взрослые</td>\n",
       "      <td>6.33%</td>\n",
       "      <td>34</td>\n",
       "      <td>537</td>\n",
       "    </tr>\n",
       "    <tr>\n",
       "      <td>молодёжь</td>\n",
       "      <td>11.76%</td>\n",
       "      <td>2</td>\n",
       "      <td>17</td>\n",
       "    </tr>\n",
       "    <tr>\n",
       "      <td>пенсионеры</td>\n",
       "      <td>6.67%</td>\n",
       "      <td>27</td>\n",
       "      <td>405</td>\n",
       "    </tr>\n",
       "    <tr>\n",
       "      <td rowspan=\"3\" valign=\"top\">гражданский брак</td>\n",
       "      <td>взрослые</td>\n",
       "      <td>9.26%</td>\n",
       "      <td>219</td>\n",
       "      <td>2365</td>\n",
       "    </tr>\n",
       "    <tr>\n",
       "      <td>молодёжь</td>\n",
       "      <td>11.14%</td>\n",
       "      <td>140</td>\n",
       "      <td>1257</td>\n",
       "    </tr>\n",
       "    <tr>\n",
       "      <td>пенсионеры</td>\n",
       "      <td>5.48%</td>\n",
       "      <td>29</td>\n",
       "      <td>529</td>\n",
       "    </tr>\n",
       "    <tr>\n",
       "      <td rowspan=\"3\" valign=\"top\">женат / замужем</td>\n",
       "      <td>взрослые</td>\n",
       "      <td>6.90%</td>\n",
       "      <td>516</td>\n",
       "      <td>7473</td>\n",
       "    </tr>\n",
       "    <tr>\n",
       "      <td>молодёжь</td>\n",
       "      <td>10.30%</td>\n",
       "      <td>327</td>\n",
       "      <td>3175</td>\n",
       "    </tr>\n",
       "    <tr>\n",
       "      <td>пенсионеры</td>\n",
       "      <td>5.20%</td>\n",
       "      <td>88</td>\n",
       "      <td>1691</td>\n",
       "    </tr>\n",
       "    <tr>\n",
       "      <td rowspan=\"3\" valign=\"top\">не женат / не замужем</td>\n",
       "      <td>взрослые</td>\n",
       "      <td>8.50%</td>\n",
       "      <td>101</td>\n",
       "      <td>1188</td>\n",
       "    </tr>\n",
       "    <tr>\n",
       "      <td>молодёжь</td>\n",
       "      <td>12.07%</td>\n",
       "      <td>159</td>\n",
       "      <td>1317</td>\n",
       "    </tr>\n",
       "    <tr>\n",
       "      <td>пенсионеры</td>\n",
       "      <td>4.59%</td>\n",
       "      <td>14</td>\n",
       "      <td>305</td>\n",
       "    </tr>\n",
       "  </tbody>\n",
       "</table>\n",
       "</div>"
      ],
      "text/plain": [
       "                                 debt, %  clients_with_debt  clients_overall\n",
       "family_status         age_status                                            \n",
       "в разводе             взрослые     6.19%                 50              808\n",
       "                      молодёжь    11.44%                 23              201\n",
       "                      пенсионеры   6.45%                 12              186\n",
       "вдовец / вдова        взрослые     6.33%                 34              537\n",
       "                      молодёжь    11.76%                  2               17\n",
       "                      пенсионеры   6.67%                 27              405\n",
       "гражданский брак      взрослые     9.26%                219             2365\n",
       "                      молодёжь    11.14%                140             1257\n",
       "                      пенсионеры   5.48%                 29              529\n",
       "женат / замужем       взрослые     6.90%                516             7473\n",
       "                      молодёжь    10.30%                327             3175\n",
       "                      пенсионеры   5.20%                 88             1691\n",
       "не женат / не замужем взрослые     8.50%                101             1188\n",
       "                      молодёжь    12.07%                159             1317\n",
       "                      пенсионеры   4.59%                 14              305"
      ]
     },
     "execution_count": 19,
     "metadata": {},
     "output_type": "execute_result"
    }
   ],
   "source": [
    "family_status = data.pivot_table(index=['family_status', 'age_status'], values='debt', aggfunc='mean')\n",
    "\n",
    "def percent(i):\n",
    "    return \"{0:.2%}\".format(i)\n",
    "\n",
    "family_status['clients_with_debt'] = data.groupby(['family_status', 'age_status'])['debt'].sum()\n",
    "family_status['clients_overall'] = data.groupby(['family_status', 'age_status'])['debt'].count()\n",
    "family_status['debt'] = family_status['debt'].apply(percent)\n",
    "family_status = family_status.rename(columns={'debt':'debt, %'})\n",
    "family_status"
   ]
  },
  {
   "cell_type": "code",
   "execution_count": 20,
   "metadata": {},
   "outputs": [
    {
     "data": {
      "text/html": [
       "<div>\n",
       "<style scoped>\n",
       "    .dataframe tbody tr th:only-of-type {\n",
       "        vertical-align: middle;\n",
       "    }\n",
       "\n",
       "    .dataframe tbody tr th {\n",
       "        vertical-align: top;\n",
       "    }\n",
       "\n",
       "    .dataframe thead th {\n",
       "        text-align: right;\n",
       "    }\n",
       "</style>\n",
       "<table border=\"1\" class=\"dataframe\">\n",
       "  <thead>\n",
       "    <tr style=\"text-align: right;\">\n",
       "      <th></th>\n",
       "      <th></th>\n",
       "      <th>debt, %</th>\n",
       "      <th>clients_with_debt</th>\n",
       "      <th>clients_overall</th>\n",
       "    </tr>\n",
       "    <tr>\n",
       "      <th>income_rate</th>\n",
       "      <th>age_status</th>\n",
       "      <th></th>\n",
       "      <th></th>\n",
       "      <th></th>\n",
       "    </tr>\n",
       "  </thead>\n",
       "  <tbody>\n",
       "    <tr>\n",
       "      <td rowspan=\"3\" valign=\"top\">высокие доходы</td>\n",
       "      <td>взрослые</td>\n",
       "      <td>7.40%</td>\n",
       "      <td>635</td>\n",
       "      <td>8586</td>\n",
       "    </tr>\n",
       "    <tr>\n",
       "      <td>молодёжь</td>\n",
       "      <td>10.76%</td>\n",
       "      <td>446</td>\n",
       "      <td>4144</td>\n",
       "    </tr>\n",
       "    <tr>\n",
       "      <td>пенсионеры</td>\n",
       "      <td>5.80%</td>\n",
       "      <td>109</td>\n",
       "      <td>1879</td>\n",
       "    </tr>\n",
       "    <tr>\n",
       "      <td rowspan=\"3\" valign=\"top\">низкие доходы</td>\n",
       "      <td>взрослые</td>\n",
       "      <td>5.16%</td>\n",
       "      <td>23</td>\n",
       "      <td>446</td>\n",
       "    </tr>\n",
       "    <tr>\n",
       "      <td>молодёжь</td>\n",
       "      <td>9.46%</td>\n",
       "      <td>14</td>\n",
       "      <td>148</td>\n",
       "    </tr>\n",
       "    <tr>\n",
       "      <td>пенсионеры</td>\n",
       "      <td>5.66%</td>\n",
       "      <td>12</td>\n",
       "      <td>212</td>\n",
       "    </tr>\n",
       "    <tr>\n",
       "      <td rowspan=\"3\" valign=\"top\">средние доходы</td>\n",
       "      <td>взрослые</td>\n",
       "      <td>7.85%</td>\n",
       "      <td>262</td>\n",
       "      <td>3339</td>\n",
       "    </tr>\n",
       "    <tr>\n",
       "      <td>молодёжь</td>\n",
       "      <td>11.40%</td>\n",
       "      <td>191</td>\n",
       "      <td>1675</td>\n",
       "    </tr>\n",
       "    <tr>\n",
       "      <td>пенсионеры</td>\n",
       "      <td>4.78%</td>\n",
       "      <td>49</td>\n",
       "      <td>1025</td>\n",
       "    </tr>\n",
       "  </tbody>\n",
       "</table>\n",
       "</div>"
      ],
      "text/plain": [
       "                          debt, %  clients_with_debt  clients_overall\n",
       "income_rate    age_status                                            \n",
       "высокие доходы взрослые     7.40%                635             8586\n",
       "               молодёжь    10.76%                446             4144\n",
       "               пенсионеры   5.80%                109             1879\n",
       "низкие доходы  взрослые     5.16%                 23              446\n",
       "               молодёжь     9.46%                 14              148\n",
       "               пенсионеры   5.66%                 12              212\n",
       "средние доходы взрослые     7.85%                262             3339\n",
       "               молодёжь    11.40%                191             1675\n",
       "               пенсионеры   4.78%                 49             1025"
      ]
     },
     "execution_count": 20,
     "metadata": {},
     "output_type": "execute_result"
    }
   ],
   "source": [
    "monthly_income = data.pivot_table(index=['income_rate', 'age_status'], values='debt', aggfunc='mean')\n",
    "\n",
    "def percent(i):\n",
    "    return \"{0:.2%}\".format(i)\n",
    "\n",
    "monthly_income['clients_with_debt'] = data.groupby(['income_rate', 'age_status'])['debt'].sum()\n",
    "monthly_income['clients_overall'] = data.groupby(['income_rate', 'age_status'])['debt'].count()\n",
    "monthly_income['debt'] = monthly_income['debt'].apply(percent)\n",
    "monthly_income = monthly_income.rename(columns={'debt':'debt, %'})\n",
    "monthly_income"
   ]
  },
  {
   "cell_type": "code",
   "execution_count": 21,
   "metadata": {},
   "outputs": [
    {
     "data": {
      "text/html": [
       "<div>\n",
       "<style scoped>\n",
       "    .dataframe tbody tr th:only-of-type {\n",
       "        vertical-align: middle;\n",
       "    }\n",
       "\n",
       "    .dataframe tbody tr th {\n",
       "        vertical-align: top;\n",
       "    }\n",
       "\n",
       "    .dataframe thead th {\n",
       "        text-align: right;\n",
       "    }\n",
       "</style>\n",
       "<table border=\"1\" class=\"dataframe\">\n",
       "  <thead>\n",
       "    <tr style=\"text-align: right;\">\n",
       "      <th></th>\n",
       "      <th></th>\n",
       "      <th>debt, %</th>\n",
       "      <th>clients_with_debt</th>\n",
       "      <th>clients_overall</th>\n",
       "    </tr>\n",
       "    <tr>\n",
       "      <th>category_purpose</th>\n",
       "      <th>age_status</th>\n",
       "      <th></th>\n",
       "      <th></th>\n",
       "      <th></th>\n",
       "    </tr>\n",
       "  </thead>\n",
       "  <tbody>\n",
       "    <tr>\n",
       "      <td rowspan=\"3\" valign=\"top\">авто</td>\n",
       "      <td>взрослые</td>\n",
       "      <td>8.33%</td>\n",
       "      <td>208</td>\n",
       "      <td>2496</td>\n",
       "    </tr>\n",
       "    <tr>\n",
       "      <td>молодёжь</td>\n",
       "      <td>12.77%</td>\n",
       "      <td>150</td>\n",
       "      <td>1175</td>\n",
       "    </tr>\n",
       "    <tr>\n",
       "      <td>пенсионеры</td>\n",
       "      <td>7.09%</td>\n",
       "      <td>45</td>\n",
       "      <td>635</td>\n",
       "    </tr>\n",
       "    <tr>\n",
       "      <td rowspan=\"3\" valign=\"top\">жилье</td>\n",
       "      <td>взрослые</td>\n",
       "      <td>6.21%</td>\n",
       "      <td>158</td>\n",
       "      <td>2546</td>\n",
       "    </tr>\n",
       "    <tr>\n",
       "      <td>молодёжь</td>\n",
       "      <td>9.28%</td>\n",
       "      <td>119</td>\n",
       "      <td>1283</td>\n",
       "    </tr>\n",
       "    <tr>\n",
       "      <td>пенсионеры</td>\n",
       "      <td>4.91%</td>\n",
       "      <td>31</td>\n",
       "      <td>631</td>\n",
       "    </tr>\n",
       "    <tr>\n",
       "      <td rowspan=\"3\" valign=\"top\">недвижимость</td>\n",
       "      <td>взрослые</td>\n",
       "      <td>7.08%</td>\n",
       "      <td>262</td>\n",
       "      <td>3703</td>\n",
       "    </tr>\n",
       "    <tr>\n",
       "      <td>молодёжь</td>\n",
       "      <td>9.99%</td>\n",
       "      <td>174</td>\n",
       "      <td>1742</td>\n",
       "    </tr>\n",
       "    <tr>\n",
       "      <td>пенсионеры</td>\n",
       "      <td>4.19%</td>\n",
       "      <td>38</td>\n",
       "      <td>906</td>\n",
       "    </tr>\n",
       "    <tr>\n",
       "      <td rowspan=\"3\" valign=\"top\">образование</td>\n",
       "      <td>взрослые</td>\n",
       "      <td>8.02%</td>\n",
       "      <td>184</td>\n",
       "      <td>2295</td>\n",
       "    </tr>\n",
       "    <tr>\n",
       "      <td>молодёжь</td>\n",
       "      <td>13.07%</td>\n",
       "      <td>145</td>\n",
       "      <td>1109</td>\n",
       "    </tr>\n",
       "    <tr>\n",
       "      <td>пенсионеры</td>\n",
       "      <td>6.73%</td>\n",
       "      <td>41</td>\n",
       "      <td>609</td>\n",
       "    </tr>\n",
       "    <tr>\n",
       "      <td rowspan=\"3\" valign=\"top\">свадьба</td>\n",
       "      <td>взрослые</td>\n",
       "      <td>8.11%</td>\n",
       "      <td>108</td>\n",
       "      <td>1331</td>\n",
       "    </tr>\n",
       "    <tr>\n",
       "      <td>молодёжь</td>\n",
       "      <td>9.57%</td>\n",
       "      <td>63</td>\n",
       "      <td>658</td>\n",
       "    </tr>\n",
       "    <tr>\n",
       "      <td>пенсионеры</td>\n",
       "      <td>4.48%</td>\n",
       "      <td>15</td>\n",
       "      <td>335</td>\n",
       "    </tr>\n",
       "  </tbody>\n",
       "</table>\n",
       "</div>"
      ],
      "text/plain": [
       "                            debt, %  clients_with_debt  clients_overall\n",
       "category_purpose age_status                                            \n",
       "авто             взрослые     8.33%                208             2496\n",
       "                 молодёжь    12.77%                150             1175\n",
       "                 пенсионеры   7.09%                 45              635\n",
       "жилье            взрослые     6.21%                158             2546\n",
       "                 молодёжь     9.28%                119             1283\n",
       "                 пенсионеры   4.91%                 31              631\n",
       "недвижимость     взрослые     7.08%                262             3703\n",
       "                 молодёжь     9.99%                174             1742\n",
       "                 пенсионеры   4.19%                 38              906\n",
       "образование      взрослые     8.02%                184             2295\n",
       "                 молодёжь    13.07%                145             1109\n",
       "                 пенсионеры   6.73%                 41              609\n",
       "свадьба          взрослые     8.11%                108             1331\n",
       "                 молодёжь     9.57%                 63              658\n",
       "                 пенсионеры   4.48%                 15              335"
      ]
     },
     "execution_count": 21,
     "metadata": {},
     "output_type": "execute_result"
    }
   ],
   "source": [
    "main_purpose = data.pivot_table(index=['category_purpose', 'age_status'], values='debt', aggfunc='mean')\n",
    "\n",
    "def percent(i):\n",
    "    return \"{0:.2%}\".format(i)\n",
    "\n",
    "main_purpose['clients_with_debt'] = data.groupby(['category_purpose', 'age_status'])['debt'].sum()\n",
    "main_purpose['clients_overall'] = data.groupby(['category_purpose', 'age_status'])['debt'].count()\n",
    "main_purpose['debt'] = main_purpose['debt'].apply(percent)\n",
    "main_purpose = main_purpose.rename(columns={'debt':'debt, %'})\n",
    "main_purpose"
   ]
  }
 ],
 "metadata": {
  "ExecuteTimeLog": [
   {
    "duration": 1091,
    "start_time": "2021-12-18T12:13:10.336Z"
   },
   {
    "duration": 17,
    "start_time": "2021-12-18T12:19:36.185Z"
   },
   {
    "duration": 15,
    "start_time": "2021-12-18T12:20:28.684Z"
   },
   {
    "duration": -2673,
    "start_time": "2021-12-18T12:21:08.392Z"
   },
   {
    "duration": 309,
    "start_time": "2021-12-18T12:21:14.507Z"
   },
   {
    "duration": 17,
    "start_time": "2021-12-18T12:21:23.236Z"
   },
   {
    "duration": 13,
    "start_time": "2021-12-18T12:21:56.338Z"
   },
   {
    "duration": 15,
    "start_time": "2021-12-18T12:23:58.031Z"
   },
   {
    "duration": 17,
    "start_time": "2021-12-18T12:24:16.546Z"
   },
   {
    "duration": 1048,
    "start_time": "2021-12-18T16:23:57.843Z"
   },
   {
    "duration": 411,
    "start_time": "2021-12-18T16:29:05.400Z"
   },
   {
    "duration": 45,
    "start_time": "2021-12-18T16:29:59.951Z"
   },
   {
    "duration": 313,
    "start_time": "2021-12-18T16:31:04.324Z"
   },
   {
    "duration": 14,
    "start_time": "2021-12-18T16:31:09.433Z"
   },
   {
    "duration": 13,
    "start_time": "2021-12-18T16:39:48.696Z"
   },
   {
    "duration": 23,
    "start_time": "2021-12-18T18:32:29.948Z"
   },
   {
    "duration": 23,
    "start_time": "2021-12-18T18:33:21.932Z"
   },
   {
    "duration": 27,
    "start_time": "2021-12-18T18:34:24.693Z"
   },
   {
    "duration": 78,
    "start_time": "2021-12-18T18:36:12.876Z"
   },
   {
    "duration": 65,
    "start_time": "2021-12-18T18:36:29.726Z"
   },
   {
    "duration": 65,
    "start_time": "2021-12-18T18:38:47.683Z"
   },
   {
    "duration": 61,
    "start_time": "2021-12-18T18:38:54.899Z"
   },
   {
    "duration": 63,
    "start_time": "2021-12-18T18:38:57.412Z"
   },
   {
    "duration": 104,
    "start_time": "2021-12-18T18:39:03.950Z"
   },
   {
    "duration": 90,
    "start_time": "2021-12-18T18:39:23.563Z"
   },
   {
    "duration": 63,
    "start_time": "2021-12-18T18:40:52.248Z"
   },
   {
    "duration": 46,
    "start_time": "2021-12-18T18:41:02.539Z"
   },
   {
    "duration": 54,
    "start_time": "2021-12-18T18:41:23.827Z"
   },
   {
    "duration": 23,
    "start_time": "2021-12-18T18:41:41.410Z"
   },
   {
    "duration": 971,
    "start_time": "2021-12-18T18:41:52.191Z"
   },
   {
    "duration": 19,
    "start_time": "2021-12-18T18:41:55.840Z"
   },
   {
    "duration": 30,
    "start_time": "2021-12-18T18:41:58.650Z"
   },
   {
    "duration": 25,
    "start_time": "2021-12-18T18:42:01.941Z"
   },
   {
    "duration": 45,
    "start_time": "2021-12-18T18:42:02.905Z"
   },
   {
    "duration": 432,
    "start_time": "2021-12-18T19:10:51.203Z"
   },
   {
    "duration": 112,
    "start_time": "2021-12-18T19:11:01.655Z"
   },
   {
    "duration": 54,
    "start_time": "2021-12-18T19:11:29.500Z"
   },
   {
    "duration": 983,
    "start_time": "2021-12-18T19:12:23.637Z"
   },
   {
    "duration": 15,
    "start_time": "2021-12-18T19:12:24.627Z"
   },
   {
    "duration": 29,
    "start_time": "2021-12-18T19:12:26.062Z"
   },
   {
    "duration": 29,
    "start_time": "2021-12-18T19:12:27.787Z"
   },
   {
    "duration": 57,
    "start_time": "2021-12-18T19:12:28.435Z"
   },
   {
    "duration": 104,
    "start_time": "2021-12-18T19:12:28.964Z"
   },
   {
    "duration": 53,
    "start_time": "2021-12-18T19:12:32.002Z"
   },
   {
    "duration": 944,
    "start_time": "2021-12-18T19:15:10.799Z"
   },
   {
    "duration": 23,
    "start_time": "2021-12-18T19:15:11.746Z"
   },
   {
    "duration": 25,
    "start_time": "2021-12-18T19:15:11.773Z"
   },
   {
    "duration": 25,
    "start_time": "2021-12-18T19:15:11.800Z"
   },
   {
    "duration": 87,
    "start_time": "2021-12-18T19:15:11.828Z"
   },
   {
    "duration": 115,
    "start_time": "2021-12-18T19:15:11.917Z"
   },
   {
    "duration": 77,
    "start_time": "2021-12-18T19:15:12.034Z"
   },
   {
    "duration": 525,
    "start_time": "2021-12-18T19:15:42.472Z"
   },
   {
    "duration": 350,
    "start_time": "2021-12-18T19:16:09.642Z"
   },
   {
    "duration": 932,
    "start_time": "2021-12-18T19:19:35.919Z"
   },
   {
    "duration": 21,
    "start_time": "2021-12-18T19:19:36.854Z"
   },
   {
    "duration": 23,
    "start_time": "2021-12-18T19:19:36.885Z"
   },
   {
    "duration": 67,
    "start_time": "2021-12-18T19:19:36.913Z"
   },
   {
    "duration": 51,
    "start_time": "2021-12-18T19:19:36.983Z"
   },
   {
    "duration": 124,
    "start_time": "2021-12-18T19:19:37.036Z"
   },
   {
    "duration": 59,
    "start_time": "2021-12-18T19:19:37.169Z"
   },
   {
    "duration": 10353,
    "start_time": "2021-12-18T19:19:59.643Z"
   },
   {
    "duration": 10239,
    "start_time": "2021-12-18T19:21:09.967Z"
   },
   {
    "duration": 10947,
    "start_time": "2021-12-18T19:21:41.605Z"
   },
   {
    "duration": 10619,
    "start_time": "2021-12-18T19:21:59.596Z"
   },
   {
    "duration": 128,
    "start_time": "2021-12-18T19:22:35.385Z"
   },
   {
    "duration": 10825,
    "start_time": "2021-12-18T19:22:44.707Z"
   },
   {
    "duration": 915,
    "start_time": "2021-12-18T19:24:05.143Z"
   },
   {
    "duration": 13,
    "start_time": "2021-12-18T19:24:06.071Z"
   },
   {
    "duration": 24,
    "start_time": "2021-12-18T19:24:06.321Z"
   },
   {
    "duration": 27,
    "start_time": "2021-12-18T19:24:07.017Z"
   },
   {
    "duration": 48,
    "start_time": "2021-12-18T19:24:07.212Z"
   },
   {
    "duration": 94,
    "start_time": "2021-12-18T19:24:07.393Z"
   },
   {
    "duration": 52,
    "start_time": "2021-12-18T19:24:07.771Z"
   },
   {
    "duration": 418,
    "start_time": "2021-12-18T19:27:03.370Z"
   },
   {
    "duration": 4889,
    "start_time": "2021-12-18T19:27:11.434Z"
   },
   {
    "duration": 346,
    "start_time": "2021-12-18T19:28:44.241Z"
   },
   {
    "duration": 5180,
    "start_time": "2021-12-18T19:28:49.575Z"
   },
   {
    "duration": 360,
    "start_time": "2021-12-18T19:28:58.953Z"
   },
   {
    "duration": 5143,
    "start_time": "2021-12-18T19:29:02.763Z"
   },
   {
    "duration": 8240,
    "start_time": "2021-12-18T19:42:10.360Z"
   },
   {
    "duration": 90,
    "start_time": "2021-12-18T19:42:37.733Z"
   },
   {
    "duration": 305,
    "start_time": "2021-12-18T20:28:05.635Z"
   },
   {
    "duration": 93,
    "start_time": "2021-12-18T20:28:23.865Z"
   },
   {
    "duration": 91,
    "start_time": "2021-12-18T20:29:27.583Z"
   },
   {
    "duration": 858,
    "start_time": "2021-12-19T11:34:17.005Z"
   },
   {
    "duration": 14,
    "start_time": "2021-12-19T11:34:18.669Z"
   },
   {
    "duration": 22,
    "start_time": "2021-12-19T11:34:19.766Z"
   },
   {
    "duration": 27,
    "start_time": "2021-12-19T11:34:21.568Z"
   },
   {
    "duration": 44,
    "start_time": "2021-12-19T11:34:21.869Z"
   },
   {
    "duration": 88,
    "start_time": "2021-12-19T11:34:22.155Z"
   },
   {
    "duration": 52,
    "start_time": "2021-12-19T11:34:22.570Z"
   },
   {
    "duration": 379,
    "start_time": "2021-12-19T11:34:25.946Z"
   },
   {
    "duration": 4495,
    "start_time": "2021-12-19T11:34:38.051Z"
   },
   {
    "duration": 35,
    "start_time": "2021-12-19T11:37:53.202Z"
   },
   {
    "duration": 12,
    "start_time": "2021-12-19T11:38:40.360Z"
   },
   {
    "duration": 37,
    "start_time": "2021-12-19T11:38:52.118Z"
   },
   {
    "duration": 308,
    "start_time": "2021-12-19T11:39:17.067Z"
   },
   {
    "duration": 36,
    "start_time": "2021-12-19T11:39:22.545Z"
   },
   {
    "duration": 20,
    "start_time": "2021-12-19T11:53:37.100Z"
   },
   {
    "duration": 64,
    "start_time": "2021-12-19T11:53:50.269Z"
   },
   {
    "duration": 54,
    "start_time": "2021-12-19T11:54:14.000Z"
   },
   {
    "duration": 58,
    "start_time": "2021-12-19T11:54:58.479Z"
   },
   {
    "duration": 864,
    "start_time": "2021-12-19T12:00:52.328Z"
   },
   {
    "duration": 13,
    "start_time": "2021-12-19T12:00:54.103Z"
   },
   {
    "duration": 25,
    "start_time": "2021-12-19T12:00:55.441Z"
   },
   {
    "duration": 25,
    "start_time": "2021-12-19T12:01:01.233Z"
   },
   {
    "duration": 50,
    "start_time": "2021-12-19T12:01:01.513Z"
   },
   {
    "duration": 92,
    "start_time": "2021-12-19T12:01:01.809Z"
   },
   {
    "duration": 51,
    "start_time": "2021-12-19T12:01:02.257Z"
   },
   {
    "duration": 4541,
    "start_time": "2021-12-19T12:01:05.465Z"
   },
   {
    "duration": 59,
    "start_time": "2021-12-19T12:01:12.265Z"
   },
   {
    "duration": 812,
    "start_time": "2021-12-19T12:01:38.548Z"
   },
   {
    "duration": 12,
    "start_time": "2021-12-19T12:01:39.374Z"
   },
   {
    "duration": 30,
    "start_time": "2021-12-19T12:01:41.130Z"
   },
   {
    "duration": 842,
    "start_time": "2021-12-19T12:04:04.011Z"
   },
   {
    "duration": 13,
    "start_time": "2021-12-19T12:04:05.557Z"
   },
   {
    "duration": 400,
    "start_time": "2021-12-19T12:04:08.062Z"
   },
   {
    "duration": 32,
    "start_time": "2021-12-19T12:05:24.314Z"
   },
   {
    "duration": 23,
    "start_time": "2021-12-19T12:05:30.857Z"
   },
   {
    "duration": 46,
    "start_time": "2021-12-19T12:05:31.343Z"
   },
   {
    "duration": 90,
    "start_time": "2021-12-19T12:05:32.336Z"
   },
   {
    "duration": 52,
    "start_time": "2021-12-19T12:05:33.647Z"
   },
   {
    "duration": 4474,
    "start_time": "2021-12-19T12:05:36.867Z"
   },
   {
    "duration": 72,
    "start_time": "2021-12-19T12:05:41.345Z"
   },
   {
    "duration": 306,
    "start_time": "2021-12-19T12:14:07.121Z"
   },
   {
    "duration": 4614,
    "start_time": "2021-12-19T12:14:18.751Z"
   },
   {
    "duration": 634,
    "start_time": "2021-12-19T12:17:04.784Z"
   },
   {
    "duration": 656,
    "start_time": "2021-12-19T12:18:49.801Z"
   },
   {
    "duration": 52,
    "start_time": "2021-12-19T12:21:25.911Z"
   },
   {
    "duration": 98,
    "start_time": "2021-12-19T12:42:32.642Z"
   },
   {
    "duration": 13,
    "start_time": "2021-12-19T12:42:33.434Z"
   },
   {
    "duration": 33,
    "start_time": "2021-12-19T12:42:34.190Z"
   },
   {
    "duration": 139,
    "start_time": "2021-12-19T12:42:36.607Z"
   },
   {
    "duration": 71,
    "start_time": "2021-12-19T12:42:39.999Z"
   },
   {
    "duration": 96,
    "start_time": "2021-12-19T12:42:53.171Z"
   },
   {
    "duration": 48,
    "start_time": "2021-12-19T12:43:52.783Z"
   },
   {
    "duration": 5699,
    "start_time": "2021-12-19T12:43:58.989Z"
   },
   {
    "duration": 903,
    "start_time": "2021-12-19T12:45:39.780Z"
   },
   {
    "duration": 13,
    "start_time": "2021-12-19T12:45:40.686Z"
   },
   {
    "duration": 47,
    "start_time": "2021-12-19T12:45:41.339Z"
   },
   {
    "duration": 144,
    "start_time": "2021-12-19T12:45:42.110Z"
   },
   {
    "duration": 68,
    "start_time": "2021-12-19T12:45:42.311Z"
   },
   {
    "duration": 4907,
    "start_time": "2021-12-19T12:45:45.996Z"
   },
   {
    "duration": 860,
    "start_time": "2021-12-19T12:54:22.481Z"
   },
   {
    "duration": 12,
    "start_time": "2021-12-19T12:54:23.344Z"
   },
   {
    "duration": 32,
    "start_time": "2021-12-19T12:54:23.889Z"
   },
   {
    "duration": 88,
    "start_time": "2021-12-19T12:54:24.588Z"
   },
   {
    "duration": 49,
    "start_time": "2021-12-19T12:54:24.771Z"
   },
   {
    "duration": 4475,
    "start_time": "2021-12-19T12:54:25.467Z"
   },
   {
    "duration": 54,
    "start_time": "2021-12-19T12:54:29.944Z"
   },
   {
    "duration": 8,
    "start_time": "2021-12-19T12:55:51.687Z"
   },
   {
    "duration": 858,
    "start_time": "2021-12-19T12:59:25.955Z"
   },
   {
    "duration": 12,
    "start_time": "2021-12-19T12:59:26.816Z"
   },
   {
    "duration": 33,
    "start_time": "2021-12-19T12:59:27.331Z"
   },
   {
    "duration": 87,
    "start_time": "2021-12-19T12:59:27.998Z"
   },
   {
    "duration": 47,
    "start_time": "2021-12-19T12:59:28.169Z"
   },
   {
    "duration": 4523,
    "start_time": "2021-12-19T12:59:28.950Z"
   },
   {
    "duration": 61,
    "start_time": "2021-12-19T12:59:33.476Z"
   },
   {
    "duration": 8,
    "start_time": "2021-12-19T12:59:33.540Z"
   },
   {
    "duration": 18,
    "start_time": "2021-12-19T13:01:39.535Z"
   },
   {
    "duration": 16,
    "start_time": "2021-12-19T13:01:47.219Z"
   },
   {
    "duration": 95,
    "start_time": "2021-12-19T13:03:04.227Z"
   },
   {
    "duration": 11,
    "start_time": "2021-12-19T13:03:08.898Z"
   },
   {
    "duration": 18,
    "start_time": "2021-12-19T13:03:50.136Z"
   },
   {
    "duration": 8,
    "start_time": "2021-12-19T13:06:27.924Z"
   },
   {
    "duration": 10,
    "start_time": "2021-12-19T13:06:32.679Z"
   },
   {
    "duration": 95,
    "start_time": "2021-12-19T13:25:55.890Z"
   },
   {
    "duration": 97,
    "start_time": "2021-12-19T13:26:15.817Z"
   },
   {
    "duration": 12,
    "start_time": "2021-12-19T13:26:22.105Z"
   },
   {
    "duration": 12,
    "start_time": "2021-12-19T13:26:27.216Z"
   },
   {
    "duration": 414,
    "start_time": "2021-12-19T13:26:37.593Z"
   },
   {
    "duration": 291,
    "start_time": "2021-12-19T13:26:44.421Z"
   },
   {
    "duration": 12,
    "start_time": "2021-12-19T13:26:48.929Z"
   },
   {
    "duration": 13,
    "start_time": "2021-12-19T13:28:53.782Z"
   },
   {
    "duration": 13,
    "start_time": "2021-12-19T13:29:26.906Z"
   },
   {
    "duration": 99,
    "start_time": "2021-12-19T13:31:54.182Z"
   },
   {
    "duration": 93,
    "start_time": "2021-12-19T13:31:59.514Z"
   },
   {
    "duration": 89,
    "start_time": "2021-12-19T13:32:06.127Z"
   },
   {
    "duration": 12,
    "start_time": "2021-12-19T13:32:16.864Z"
   },
   {
    "duration": 10,
    "start_time": "2021-12-19T13:32:31.971Z"
   },
   {
    "duration": 89,
    "start_time": "2021-12-19T13:32:44.894Z"
   },
   {
    "duration": 102,
    "start_time": "2021-12-19T13:32:50.922Z"
   },
   {
    "duration": 12,
    "start_time": "2021-12-19T13:32:56.686Z"
   },
   {
    "duration": 14,
    "start_time": "2021-12-19T13:36:23.765Z"
   },
   {
    "duration": 14,
    "start_time": "2021-12-19T13:36:36.860Z"
   },
   {
    "duration": 14,
    "start_time": "2021-12-19T13:36:54.276Z"
   },
   {
    "duration": 11,
    "start_time": "2021-12-19T13:42:46.780Z"
   },
   {
    "duration": 293,
    "start_time": "2021-12-19T13:44:13.606Z"
   },
   {
    "duration": 10,
    "start_time": "2021-12-19T13:44:37.869Z"
   },
   {
    "duration": 13,
    "start_time": "2021-12-19T13:44:42.478Z"
   },
   {
    "duration": 12,
    "start_time": "2021-12-19T13:46:58.526Z"
   },
   {
    "duration": 11,
    "start_time": "2021-12-19T13:47:11.689Z"
   },
   {
    "duration": 13,
    "start_time": "2021-12-19T13:47:14.052Z"
   },
   {
    "duration": 11,
    "start_time": "2021-12-19T13:50:02.203Z"
   },
   {
    "duration": 7,
    "start_time": "2021-12-19T13:52:56.733Z"
   },
   {
    "duration": 39,
    "start_time": "2021-12-19T13:53:00.647Z"
   },
   {
    "duration": 424,
    "start_time": "2021-12-19T13:54:41.882Z"
   },
   {
    "duration": 10,
    "start_time": "2021-12-19T13:55:02.562Z"
   },
   {
    "duration": 11,
    "start_time": "2021-12-19T13:56:32.655Z"
   },
   {
    "duration": 12,
    "start_time": "2021-12-19T13:57:10.092Z"
   },
   {
    "duration": 12,
    "start_time": "2021-12-19T13:57:35.485Z"
   },
   {
    "duration": 11,
    "start_time": "2021-12-19T13:57:59.650Z"
   },
   {
    "duration": 12,
    "start_time": "2021-12-19T13:58:15.846Z"
   },
   {
    "duration": 10,
    "start_time": "2021-12-19T14:00:09.378Z"
   },
   {
    "duration": 10,
    "start_time": "2021-12-19T14:00:15.303Z"
   },
   {
    "duration": 10,
    "start_time": "2021-12-19T14:00:31.397Z"
   },
   {
    "duration": 6,
    "start_time": "2021-12-19T14:00:37.052Z"
   },
   {
    "duration": 5,
    "start_time": "2021-12-19T14:00:40.175Z"
   },
   {
    "duration": 10,
    "start_time": "2021-12-19T14:00:43.912Z"
   },
   {
    "duration": 11,
    "start_time": "2021-12-19T14:00:54.011Z"
   },
   {
    "duration": 11,
    "start_time": "2021-12-19T14:01:04.283Z"
   },
   {
    "duration": 12,
    "start_time": "2021-12-19T14:01:08.627Z"
   },
   {
    "duration": 10,
    "start_time": "2021-12-19T14:02:51.754Z"
   },
   {
    "duration": 6,
    "start_time": "2021-12-19T14:13:38.518Z"
   },
   {
    "duration": 11,
    "start_time": "2021-12-19T14:13:42.032Z"
   },
   {
    "duration": 11,
    "start_time": "2021-12-19T14:14:22.335Z"
   },
   {
    "duration": 14,
    "start_time": "2021-12-19T14:14:26.183Z"
   },
   {
    "duration": 18,
    "start_time": "2021-12-19T14:14:30.992Z"
   },
   {
    "duration": 13,
    "start_time": "2021-12-19T14:14:31.524Z"
   },
   {
    "duration": 17,
    "start_time": "2021-12-19T14:14:56.193Z"
   },
   {
    "duration": 9,
    "start_time": "2021-12-19T14:15:30.245Z"
   },
   {
    "duration": 24,
    "start_time": "2021-12-19T14:22:00.260Z"
   },
   {
    "duration": 25,
    "start_time": "2021-12-19T14:22:11.306Z"
   },
   {
    "duration": 99,
    "start_time": "2021-12-19T14:23:53.076Z"
   },
   {
    "duration": 7,
    "start_time": "2021-12-19T14:24:51.524Z"
   },
   {
    "duration": 8,
    "start_time": "2021-12-19T14:24:57.283Z"
   },
   {
    "duration": 7,
    "start_time": "2021-12-19T14:25:12.190Z"
   },
   {
    "duration": 9,
    "start_time": "2021-12-19T14:25:31.278Z"
   },
   {
    "duration": 8,
    "start_time": "2021-12-19T14:25:39.509Z"
   },
   {
    "duration": 9,
    "start_time": "2021-12-19T14:25:50.173Z"
   },
   {
    "duration": 50,
    "start_time": "2021-12-19T14:31:58.119Z"
   },
   {
    "duration": 102,
    "start_time": "2021-12-19T14:32:30.928Z"
   },
   {
    "duration": 21,
    "start_time": "2021-12-19T14:34:01.387Z"
   },
   {
    "duration": 76,
    "start_time": "2021-12-19T14:38:11.085Z"
   },
   {
    "duration": 10,
    "start_time": "2021-12-19T14:38:19.831Z"
   },
   {
    "duration": 10,
    "start_time": "2021-12-19T14:38:22.447Z"
   },
   {
    "duration": 10,
    "start_time": "2021-12-19T14:38:22.857Z"
   },
   {
    "duration": 12,
    "start_time": "2021-12-19T14:38:23.369Z"
   },
   {
    "duration": 10,
    "start_time": "2021-12-19T14:38:28.059Z"
   },
   {
    "duration": 93,
    "start_time": "2021-12-19T14:40:07.127Z"
   },
   {
    "duration": 10,
    "start_time": "2021-12-19T14:46:15.768Z"
   },
   {
    "duration": 10,
    "start_time": "2021-12-19T14:46:23.942Z"
   },
   {
    "duration": 26,
    "start_time": "2021-12-19T14:55:50.430Z"
   },
   {
    "duration": 31,
    "start_time": "2021-12-19T14:57:49.930Z"
   },
   {
    "duration": 846,
    "start_time": "2021-12-19T14:58:46.490Z"
   },
   {
    "duration": 25,
    "start_time": "2021-12-19T14:58:51.085Z"
   },
   {
    "duration": 8101,
    "start_time": "2021-12-19T15:00:27.591Z"
   },
   {
    "duration": 30,
    "start_time": "2021-12-19T15:01:29.551Z"
   },
   {
    "duration": 29,
    "start_time": "2021-12-19T15:27:51.367Z"
   },
   {
    "duration": 11,
    "start_time": "2021-12-19T15:28:43.791Z"
   },
   {
    "duration": 25,
    "start_time": "2021-12-19T15:29:06.619Z"
   },
   {
    "duration": -2865,
    "start_time": "2021-12-19T15:30:12.935Z"
   },
   {
    "duration": 857,
    "start_time": "2021-12-19T15:30:24.527Z"
   },
   {
    "duration": 33,
    "start_time": "2021-12-19T15:30:25.388Z"
   },
   {
    "duration": 42,
    "start_time": "2021-12-19T15:30:25.428Z"
   },
   {
    "duration": 114,
    "start_time": "2021-12-19T15:30:25.477Z"
   },
   {
    "duration": 65,
    "start_time": "2021-12-19T15:30:25.593Z"
   },
   {
    "duration": 4576,
    "start_time": "2021-12-19T15:30:25.784Z"
   },
   {
    "duration": 85,
    "start_time": "2021-12-19T15:30:30.364Z"
   },
   {
    "duration": 22,
    "start_time": "2021-12-19T15:30:30.452Z"
   },
   {
    "duration": 40,
    "start_time": "2021-12-19T15:30:30.477Z"
   },
   {
    "duration": 364,
    "start_time": "2021-12-19T15:30:31.444Z"
   },
   {
    "duration": 11,
    "start_time": "2021-12-19T15:30:31.954Z"
   },
   {
    "duration": 858,
    "start_time": "2021-12-19T15:30:47.454Z"
   },
   {
    "duration": 12,
    "start_time": "2021-12-19T15:30:50.401Z"
   },
   {
    "duration": 34,
    "start_time": "2021-12-19T15:30:51.842Z"
   },
   {
    "duration": 92,
    "start_time": "2021-12-19T15:30:53.289Z"
   },
   {
    "duration": 48,
    "start_time": "2021-12-19T15:30:53.670Z"
   },
   {
    "duration": 4517,
    "start_time": "2021-12-19T15:30:55.166Z"
   },
   {
    "duration": 81,
    "start_time": "2021-12-19T15:30:59.686Z"
   },
   {
    "duration": 22,
    "start_time": "2021-12-19T15:31:01.417Z"
   },
   {
    "duration": 11,
    "start_time": "2021-12-19T15:31:03.661Z"
   },
   {
    "duration": 373,
    "start_time": "2021-12-19T15:31:04.172Z"
   },
   {
    "duration": 11,
    "start_time": "2021-12-19T15:31:04.647Z"
   },
   {
    "duration": 30,
    "start_time": "2021-12-19T15:31:07.017Z"
   },
   {
    "duration": 7434,
    "start_time": "2021-12-19T15:31:09.805Z"
   },
   {
    "duration": 26,
    "start_time": "2021-12-19T15:32:16.639Z"
   },
   {
    "duration": 7347,
    "start_time": "2021-12-19T15:32:20.411Z"
   },
   {
    "duration": 7339,
    "start_time": "2021-12-19T15:32:42.348Z"
   },
   {
    "duration": 26,
    "start_time": "2021-12-19T15:33:40.950Z"
   },
   {
    "duration": 27,
    "start_time": "2021-12-19T15:36:32.176Z"
   },
   {
    "duration": 27,
    "start_time": "2021-12-19T15:36:37.580Z"
   },
   {
    "duration": 27,
    "start_time": "2021-12-19T15:36:46.265Z"
   },
   {
    "duration": 27,
    "start_time": "2021-12-19T15:37:38.444Z"
   },
   {
    "duration": 30,
    "start_time": "2021-12-19T15:40:08.711Z"
   },
   {
    "duration": 30,
    "start_time": "2021-12-19T15:40:23.957Z"
   },
   {
    "duration": 30,
    "start_time": "2021-12-19T15:40:49.947Z"
   },
   {
    "duration": 29,
    "start_time": "2021-12-19T15:41:03.609Z"
   },
   {
    "duration": 31,
    "start_time": "2021-12-19T15:41:23.596Z"
   },
   {
    "duration": 30,
    "start_time": "2021-12-19T15:41:44.094Z"
   },
   {
    "duration": 12,
    "start_time": "2021-12-19T15:42:41.009Z"
   },
   {
    "duration": 825,
    "start_time": "2021-12-19T16:01:58.650Z"
   },
   {
    "duration": 12,
    "start_time": "2021-12-19T16:02:00.743Z"
   },
   {
    "duration": 35,
    "start_time": "2021-12-19T16:02:01.614Z"
   },
   {
    "duration": 92,
    "start_time": "2021-12-19T16:02:02.994Z"
   },
   {
    "duration": 47,
    "start_time": "2021-12-19T16:02:03.298Z"
   },
   {
    "duration": 4834,
    "start_time": "2021-12-19T16:02:07.140Z"
   },
   {
    "duration": 79,
    "start_time": "2021-12-19T16:02:11.976Z"
   },
   {
    "duration": 21,
    "start_time": "2021-12-19T16:02:12.964Z"
   },
   {
    "duration": 12,
    "start_time": "2021-12-19T16:02:15.560Z"
   },
   {
    "duration": 388,
    "start_time": "2021-12-19T16:02:15.575Z"
   },
   {
    "duration": -2519,
    "start_time": "2021-12-19T16:02:18.485Z"
   },
   {
    "duration": 41,
    "start_time": "2021-12-19T16:02:23.277Z"
   },
   {
    "duration": 29,
    "start_time": "2021-12-19T16:02:25.666Z"
   },
   {
    "duration": 14,
    "start_time": "2021-12-19T16:03:10.346Z"
   },
   {
    "duration": 11,
    "start_time": "2021-12-19T16:03:13.125Z"
   },
   {
    "duration": 31,
    "start_time": "2021-12-19T16:03:16.188Z"
   },
   {
    "duration": 29,
    "start_time": "2021-12-19T16:03:17.692Z"
   },
   {
    "duration": 320,
    "start_time": "2021-12-21T14:42:53.791Z"
   },
   {
    "duration": 838,
    "start_time": "2021-12-21T14:43:08.177Z"
   },
   {
    "duration": 13,
    "start_time": "2021-12-21T14:43:10.287Z"
   },
   {
    "duration": 34,
    "start_time": "2021-12-21T14:43:11.221Z"
   },
   {
    "duration": 102,
    "start_time": "2021-12-21T14:43:12.721Z"
   },
   {
    "duration": 51,
    "start_time": "2021-12-21T14:43:12.936Z"
   },
   {
    "duration": 4592,
    "start_time": "2021-12-21T14:43:14.324Z"
   },
   {
    "duration": 78,
    "start_time": "2021-12-21T14:43:18.919Z"
   },
   {
    "duration": 20,
    "start_time": "2021-12-21T14:43:19.000Z"
   },
   {
    "duration": 11,
    "start_time": "2021-12-21T14:43:20.416Z"
   },
   {
    "duration": 12,
    "start_time": "2021-12-21T14:43:20.993Z"
   },
   {
    "duration": 12,
    "start_time": "2021-12-21T14:43:21.652Z"
   },
   {
    "duration": 30,
    "start_time": "2021-12-21T14:43:24.554Z"
   },
   {
    "duration": 28,
    "start_time": "2021-12-21T14:43:26.604Z"
   },
   {
    "duration": 15,
    "start_time": "2021-12-21T14:43:29.631Z"
   },
   {
    "duration": 19,
    "start_time": "2021-12-21T14:43:36.405Z"
   },
   {
    "duration": 945,
    "start_time": "2021-12-21T14:43:50.284Z"
   },
   {
    "duration": 19,
    "start_time": "2021-12-21T14:43:57.448Z"
   },
   {
    "duration": 21,
    "start_time": "2021-12-21T14:44:19.181Z"
   },
   {
    "duration": 1864,
    "start_time": "2021-12-21T14:48:48.289Z"
   },
   {
    "duration": 21,
    "start_time": "2021-12-21T14:49:03.252Z"
   },
   {
    "duration": 22,
    "start_time": "2021-12-21T14:49:08.868Z"
   },
   {
    "duration": 25,
    "start_time": "2021-12-21T14:49:21.523Z"
   },
   {
    "duration": 20,
    "start_time": "2021-12-21T14:49:24.594Z"
   },
   {
    "duration": 23,
    "start_time": "2021-12-21T14:49:29.842Z"
   },
   {
    "duration": 21,
    "start_time": "2021-12-21T14:49:33.975Z"
   },
   {
    "duration": 22,
    "start_time": "2021-12-21T14:49:39.635Z"
   },
   {
    "duration": 21,
    "start_time": "2021-12-21T14:49:46.354Z"
   },
   {
    "duration": 20,
    "start_time": "2021-12-21T14:49:50.086Z"
   },
   {
    "duration": 22,
    "start_time": "2021-12-21T14:49:53.166Z"
   },
   {
    "duration": 275,
    "start_time": "2021-12-21T14:52:18.925Z"
   },
   {
    "duration": 29,
    "start_time": "2021-12-21T14:52:29.454Z"
   },
   {
    "duration": 24,
    "start_time": "2021-12-21T14:52:45.602Z"
   },
   {
    "duration": 24,
    "start_time": "2021-12-21T14:52:50.584Z"
   },
   {
    "duration": 25,
    "start_time": "2021-12-21T14:52:55.572Z"
   },
   {
    "duration": 25,
    "start_time": "2021-12-21T14:53:23.313Z"
   },
   {
    "duration": 80,
    "start_time": "2021-12-21T14:54:03.508Z"
   },
   {
    "duration": 27,
    "start_time": "2021-12-21T14:54:27.429Z"
   },
   {
    "duration": 26,
    "start_time": "2021-12-21T14:54:34.986Z"
   },
   {
    "duration": 29,
    "start_time": "2021-12-21T14:54:51.963Z"
   },
   {
    "duration": 26,
    "start_time": "2021-12-21T14:56:56.166Z"
   },
   {
    "duration": 33,
    "start_time": "2021-12-21T14:58:35.449Z"
   },
   {
    "duration": 31,
    "start_time": "2021-12-21T14:59:52.905Z"
   },
   {
    "duration": 38,
    "start_time": "2021-12-21T15:01:04.860Z"
   },
   {
    "duration": 37,
    "start_time": "2021-12-21T15:01:33.154Z"
   },
   {
    "duration": 35,
    "start_time": "2021-12-21T15:03:44.000Z"
   },
   {
    "duration": 49,
    "start_time": "2021-12-21T15:05:56.739Z"
   },
   {
    "duration": 96,
    "start_time": "2021-12-21T15:15:26.696Z"
   },
   {
    "duration": 65,
    "start_time": "2021-12-21T15:17:45.657Z"
   },
   {
    "duration": 868,
    "start_time": "2021-12-21T15:21:00.093Z"
   },
   {
    "duration": 12,
    "start_time": "2021-12-21T15:21:02.445Z"
   },
   {
    "duration": 35,
    "start_time": "2021-12-21T15:21:03.560Z"
   },
   {
    "duration": 138,
    "start_time": "2021-12-21T15:21:04.533Z"
   },
   {
    "duration": 72,
    "start_time": "2021-12-21T15:21:04.770Z"
   },
   {
    "duration": 5340,
    "start_time": "2021-12-21T15:21:06.154Z"
   },
   {
    "duration": 83,
    "start_time": "2021-12-21T15:21:13.546Z"
   },
   {
    "duration": 21,
    "start_time": "2021-12-21T15:23:14.480Z"
   },
   {
    "duration": 11,
    "start_time": "2021-12-21T15:23:16.800Z"
   },
   {
    "duration": 12,
    "start_time": "2021-12-21T15:23:17.377Z"
   },
   {
    "duration": 11,
    "start_time": "2021-12-21T15:23:17.722Z"
   },
   {
    "duration": 31,
    "start_time": "2021-12-21T15:23:19.416Z"
   },
   {
    "duration": 30,
    "start_time": "2021-12-21T15:23:20.868Z"
   },
   {
    "duration": 31,
    "start_time": "2021-12-21T15:23:24.217Z"
   },
   {
    "duration": 465,
    "start_time": "2021-12-21T15:24:00.466Z"
   },
   {
    "duration": 51,
    "start_time": "2021-12-21T15:24:11.468Z"
   },
   {
    "duration": 29,
    "start_time": "2021-12-21T15:25:16.363Z"
   },
   {
    "duration": 314,
    "start_time": "2021-12-21T15:26:29.106Z"
   },
   {
    "duration": 40,
    "start_time": "2021-12-21T15:26:34.198Z"
   },
   {
    "duration": 7059,
    "start_time": "2021-12-21T15:29:21.650Z"
   },
   {
    "duration": 39,
    "start_time": "2021-12-21T15:29:56.640Z"
   },
   {
    "duration": 8683,
    "start_time": "2021-12-21T15:30:13.243Z"
   },
   {
    "duration": 6712,
    "start_time": "2021-12-21T15:30:51.714Z"
   },
   {
    "duration": 45,
    "start_time": "2021-12-21T15:31:15.923Z"
   },
   {
    "duration": 33,
    "start_time": "2021-12-21T15:32:25.622Z"
   },
   {
    "duration": 31,
    "start_time": "2021-12-21T15:32:30.913Z"
   },
   {
    "duration": 63,
    "start_time": "2021-12-21T15:32:57.137Z"
   },
   {
    "duration": 39,
    "start_time": "2021-12-21T15:33:34.020Z"
   },
   {
    "duration": 42,
    "start_time": "2021-12-21T15:33:39.219Z"
   },
   {
    "duration": 6502,
    "start_time": "2021-12-21T15:35:33.753Z"
   },
   {
    "duration": 40,
    "start_time": "2021-12-21T15:36:31.638Z"
   },
   {
    "duration": 40,
    "start_time": "2021-12-21T15:37:01.518Z"
   },
   {
    "duration": 40,
    "start_time": "2021-12-21T15:37:29.946Z"
   },
   {
    "duration": 43,
    "start_time": "2021-12-21T15:37:52.681Z"
   },
   {
    "duration": 42,
    "start_time": "2021-12-21T15:37:59.121Z"
   },
   {
    "duration": 42,
    "start_time": "2021-12-21T15:38:38.452Z"
   },
   {
    "duration": 46,
    "start_time": "2021-12-21T15:38:50.331Z"
   },
   {
    "duration": 47,
    "start_time": "2021-12-21T15:39:12.078Z"
   },
   {
    "duration": 45,
    "start_time": "2021-12-21T15:39:24.631Z"
   },
   {
    "duration": 67,
    "start_time": "2021-12-21T15:39:35.445Z"
   },
   {
    "duration": 47,
    "start_time": "2021-12-21T15:40:40.130Z"
   },
   {
    "duration": 320,
    "start_time": "2021-12-21T15:41:38.119Z"
   },
   {
    "duration": 72,
    "start_time": "2021-12-21T15:42:07.323Z"
   },
   {
    "duration": 73,
    "start_time": "2021-12-21T15:42:36.961Z"
   },
   {
    "duration": 43,
    "start_time": "2021-12-21T16:06:21.670Z"
   },
   {
    "duration": 1010,
    "start_time": "2021-12-21T16:15:37.083Z"
   },
   {
    "duration": 6691,
    "start_time": "2021-12-21T16:15:40.525Z"
   },
   {
    "duration": -185,
    "start_time": "2021-12-21T16:18:38.295Z"
   },
   {
    "duration": 902,
    "start_time": "2021-12-21T16:19:07.178Z"
   },
   {
    "duration": 6017,
    "start_time": "2021-12-21T16:19:08.089Z"
   },
   {
    "duration": 21,
    "start_time": "2021-12-21T16:19:41.402Z"
   },
   {
    "duration": 12,
    "start_time": "2021-12-21T16:19:53.734Z"
   },
   {
    "duration": 16,
    "start_time": "2021-12-21T16:19:59.323Z"
   },
   {
    "duration": 255,
    "start_time": "2021-12-21T16:20:19.780Z"
   },
   {
    "duration": 14,
    "start_time": "2021-12-21T16:20:23.825Z"
   },
   {
    "duration": 122,
    "start_time": "2021-12-21T16:25:19.552Z"
   },
   {
    "duration": 7314,
    "start_time": "2021-12-21T16:30:42.466Z"
   },
   {
    "duration": 20,
    "start_time": "2021-12-21T16:31:38.040Z"
   },
   {
    "duration": 22,
    "start_time": "2021-12-21T16:32:05.187Z"
   },
   {
    "duration": 22,
    "start_time": "2021-12-21T16:32:27.692Z"
   },
   {
    "duration": 17,
    "start_time": "2021-12-21T16:32:48.367Z"
   },
   {
    "duration": 11,
    "start_time": "2021-12-21T16:33:03.640Z"
   },
   {
    "duration": 11,
    "start_time": "2021-12-21T16:35:33.835Z"
   },
   {
    "duration": 7575,
    "start_time": "2021-12-21T16:35:59.329Z"
   },
   {
    "duration": 27,
    "start_time": "2021-12-21T16:36:20.911Z"
   },
   {
    "duration": 23,
    "start_time": "2021-12-21T16:36:46.872Z"
   },
   {
    "duration": 39,
    "start_time": "2021-12-21T16:47:04.854Z"
   },
   {
    "duration": 42,
    "start_time": "2021-12-21T16:48:03.311Z"
   },
   {
    "duration": 62,
    "start_time": "2021-12-21T16:48:22.035Z"
   },
   {
    "duration": 38,
    "start_time": "2021-12-21T16:48:36.152Z"
   },
   {
    "duration": 41,
    "start_time": "2021-12-21T16:49:12.914Z"
   },
   {
    "duration": 17,
    "start_time": "2021-12-21T16:49:45.549Z"
   },
   {
    "duration": 856,
    "start_time": "2021-12-21T16:50:09.375Z"
   },
   {
    "duration": 59,
    "start_time": "2021-12-21T16:50:10.234Z"
   },
   {
    "duration": 24,
    "start_time": "2021-12-21T16:50:10.485Z"
   },
   {
    "duration": 14,
    "start_time": "2021-12-21T16:50:12.423Z"
   },
   {
    "duration": 15,
    "start_time": "2021-12-21T16:50:12.655Z"
   },
   {
    "duration": 41,
    "start_time": "2021-12-21T16:50:15.209Z"
   },
   {
    "duration": 20,
    "start_time": "2021-12-21T16:50:15.880Z"
   },
   {
    "duration": 92,
    "start_time": "2021-12-21T16:50:26.481Z"
   },
   {
    "duration": 61,
    "start_time": "2021-12-21T16:50:27.071Z"
   },
   {
    "duration": 5191,
    "start_time": "2021-12-21T16:50:29.038Z"
   },
   {
    "duration": 90,
    "start_time": "2021-12-21T16:50:34.232Z"
   },
   {
    "duration": 30,
    "start_time": "2021-12-21T16:50:39.148Z"
   },
   {
    "duration": 11,
    "start_time": "2021-12-21T16:50:44.914Z"
   },
   {
    "duration": 12,
    "start_time": "2021-12-21T16:50:45.534Z"
   },
   {
    "duration": 11,
    "start_time": "2021-12-21T16:50:45.777Z"
   },
   {
    "duration": 29,
    "start_time": "2021-12-21T16:50:55.748Z"
   },
   {
    "duration": 30,
    "start_time": "2021-12-21T16:50:58.795Z"
   },
   {
    "duration": 43,
    "start_time": "2021-12-21T16:51:01.989Z"
   },
   {
    "duration": 47,
    "start_time": "2021-12-21T16:51:03.166Z"
   },
   {
    "duration": 47,
    "start_time": "2021-12-21T16:51:03.773Z"
   },
   {
    "duration": 46,
    "start_time": "2021-12-21T16:51:04.321Z"
   }
  ],
  "kernelspec": {
   "display_name": "Python 3 (ipykernel)",
   "language": "python",
   "name": "python3"
  },
  "language_info": {
   "codemirror_mode": {
    "name": "ipython",
    "version": 3
   },
   "file_extension": ".py",
   "mimetype": "text/x-python",
   "name": "python",
   "nbconvert_exporter": "python",
   "pygments_lexer": "ipython3",
   "version": "3.11.4"
  },
  "toc": {
   "base_numbering": 1,
   "nav_menu": {},
   "number_sections": true,
   "sideBar": true,
   "skip_h1_title": true,
   "title_cell": "Table of Contents",
   "title_sidebar": "Contents",
   "toc_cell": false,
   "toc_position": {},
   "toc_section_display": true,
   "toc_window_display": false
  }
 },
 "nbformat": 4,
 "nbformat_minor": 2
}
